{
 "cells": [
  {
   "cell_type": "markdown",
   "metadata": {},
   "source": [
    "# **Importation des packages**"
   ]
  },
  {
   "cell_type": "code",
   "execution_count": 1,
   "metadata": {},
   "outputs": [
    {
     "name": "stderr",
     "output_type": "stream",
     "text": [
      "c:\\Users\\PEGON\\Desktop\\textmining\\venv\\lib\\site-packages\\past\\builtins\\misc.py:45: DeprecationWarning: the imp module is deprecated in favour of importlib; see the module's documentation for alternative uses\n",
      "  from imp import reload\n"
     ]
    }
   ],
   "source": [
    "import sys\n",
    "import gensim as gs\n",
    "from gensim.corpora import Dictionary\n",
    "from gensim.models.ldamulticore import LdaMulticore\n",
    "from gensim.models.coherencemodel import CoherenceModel\n",
    "from gensim.parsing.preprocessing import STOPWORDS as SW\n",
    "from pprint import pprint\n",
    "\n",
    "import pyLDAvis.gensim_models\n",
    "import snscrape.modules.twitter as sntwitter\n",
    "import plotly.express as px\n",
    "import plotly.graph_objects as go\n",
    "import seaborn as sns\n",
    "\n",
    "import chart_studio\n",
    "import chart_studio.plotly as py \n",
    "import chart_studio.tools as tls\n",
    "import matplotlib.pyplot as plt \n",
    "\n",
    "import json, requests, emoji, regex, re, string\n",
    "from collections import Counter\n",
    "import numpy as np\n",
    "import pandas as pd\n",
    "import re\n",
    "from sklearn.feature_extraction.text import TfidfVectorizer\n",
    "from sklearn.cluster import KMeans\n",
    "import pyLDAvis.gensim_models\n",
    "import snscrape.modules.twitter as sntwitter\n",
    "from sklearn.model_selection import GridSearchCV\n",
    "from imp import reload\n",
    "\n",
    "from wordcloud import STOPWORDS\n",
    "from nltk.corpus import stopwords\n",
    "stopwords = set(stopwords.words('french'))\n",
    "\n",
    "import spacy as scy\n",
    "from spacy.tokenizer import Tokenizer\n",
    "from sklearn.decomposition import LatentDirichletAllocation, TruncatedSVD\n",
    "from sklearn.feature_extraction.text import CountVectorizer, TfidfVectorizer\n",
    "\n",
    "%matplotlib inline\n",
    "import warnings\n",
    "warnings.filterwarnings('ignore','int', category=DeprecationWarning)"
   ]
  },
  {
   "cell_type": "markdown",
   "metadata": {},
   "source": [
    "# **I. Scrapping of Tweets**"
   ]
  },
  {
   "cell_type": "markdown",
   "metadata": {},
   "source": [
    "### **I.1 Scrapping of randoms tweets**\n",
    "\n",
    "* Initialization of a for loop to analyze the tweets\n",
    "* Different parameters (language, date, likes, verified or not, etc...)"
   ]
  },
  {
   "cell_type": "code",
   "execution_count": null,
   "metadata": {},
   "outputs": [],
   "source": [
    "# 18/12/2020\n",
    "\n",
    "tweets_random = []\n",
    "tweets_likee = []\n",
    "\n",
    "for g,tweet in enumerate(sntwitter.TwitterSearchScraper('#bitcoin since:2020-12-17 until:2020-12-20 lang:en').get_items()):\n",
    "    if g>83333:\n",
    "        break\n",
    "    \n",
    "    elif tweet.likeCount > 200: # On récupère tous les tweets au dessus de 200 like\n",
    "        tweets_likee.append([tweet.date, tweet.id, tweet.content, tweet.user.username, tweet.likeCount, tweet.user.displayname, tweet.user.verified, tweet.lang])\n",
    "    else :\n",
    "        tweets_random.append([tweet.date, tweet.id, tweet.content, tweet.user.username, tweet.likeCount, tweet.user.displayname, tweet.user.verified, tweet.lang])\n",
    "\n",
    "label = ['Datetime', 'Id Tweet', 'Text', 'Username', 'Like Count', 'Display Name', 'Vérifié', 'Language']\n",
    "\n",
    "df_tweets_random = pd.DataFrame(tweets_random, columns=label)\n",
    "df_tweets_likee = pd.DataFrame(tweets_likee, columns=label)\n",
    "#df_tweets_vérifié = pd.DataFrame(tweet_vérifié, columns=label)\n",
    "\n",
    "# Exportation en .csv des df finaux\n",
    "\n",
    "df_tweets_random.to_csv('scrp_random_2020_12_18.csv')\n",
    "df_tweets_likee.to_csv('scrp_like_2020_12_18.csv')\n",
    "\n",
    "# Concaténation de nos 4 dfs\n",
    "df_twitter0 = pd.concat([df_tweets_random, df_tweets_likee], axis=0, ignore_index=True)\n",
    "\n",
    "# Exportation en .csv de l'ensemble du jeu de donné\n",
    "df_twitter0.to_csv('T_FINAL_1.csv')\n",
    "df_twitter0.head(5)"
   ]
  },
  {
   "cell_type": "code",
   "execution_count": null,
   "metadata": {},
   "outputs": [],
   "source": [
    "# 08/01/2021\n",
    "\n",
    "tweets_random1 = []\n",
    "tweets_likee1 = []\n",
    "\n",
    "for g,tweet in enumerate(sntwitter.TwitterSearchScraper('#bitcoin since:2021-01-07 until:2021-01-10 lang:en').get_items()):\n",
    "    if g>83333:\n",
    "        break\n",
    "    \n",
    "    elif tweet.likeCount > 200: # On récupère tous les tweets au dessus de 200 like\n",
    "        tweets_likee1.append([tweet.date, tweet.id, tweet.content, tweet.user.username, tweet.likeCount, tweet.user.displayname, tweet.user.verified, tweet.lang])\n",
    "    else :\n",
    "        tweets_random1.append([tweet.date, tweet.id, tweet.content, tweet.user.username, tweet.likeCount, tweet.user.displayname, tweet.user.verified, tweet.lang])\n",
    "\n",
    "label = ['Datetime', 'Id Tweet', 'Text', 'Username', 'Like Count', 'Display Name', 'Vérifié', 'Language']\n",
    "\n",
    "df_tweets_random1 = pd.DataFrame(tweets_random1, columns=label)\n",
    "df_tweets_likee1 = pd.DataFrame(tweets_likee1, columns=label)\n",
    "\n",
    "# Exportation en .csv des df finaux\n",
    "\n",
    "df_tweets_random1.to_csv('scrp_random_2021_01_08.csv')\n",
    "df_tweets_likee1.to_csv('scrp_like_2021_01_08.csv')\n",
    "\n",
    "# Concaténation de nos 4 dfs\n",
    "df_twitter1 = pd.concat([df_tweets_random1, df_tweets_likee1], axis=0, ignore_index=True)\n",
    "\n",
    "# Exportation en .csv de l'ensemble du jeu de donné\n",
    "df_twitter1.to_csv('T_FINAL_2.csv')\n",
    "df_twitter1.head(5)"
   ]
  },
  {
   "cell_type": "code",
   "execution_count": null,
   "metadata": {},
   "outputs": [],
   "source": [
    "# 22/01/2021\n",
    "\n",
    "tweets_random2 = []\n",
    "tweets_likee2 = []\n",
    "\n",
    "for g,tweet in enumerate(sntwitter.TwitterSearchScraper('#bitcoin since:2021-01-20 until:2021-01-23 lang:en').get_items()):\n",
    "    if g>83333:\n",
    "        break\n",
    "    \n",
    "    elif tweet.likeCount > 200: # On récupère tous les tweets au dessus de 200 like\n",
    "        tweets_likee2.append([tweet.date, tweet.id, tweet.content, tweet.user.username, tweet.likeCount, tweet.user.displayname, tweet.user.verified, tweet.lang])\n",
    "    else :\n",
    "        tweets_random2.append([tweet.date, tweet.id, tweet.content, tweet.user.username, tweet.likeCount, tweet.user.displayname, tweet.user.verified, tweet.lang])\n",
    "\n",
    "\n",
    "label = ['Datetime', 'Id Tweet', 'Text', 'Username', 'Like Count', 'Display Name', 'Vérifié', 'Language']\n",
    "\n",
    "df_tweets_random2 = pd.DataFrame(tweets_random2, columns=label)\n",
    "df_tweets_likee2 = pd.DataFrame(tweets_likee2, columns=label)\n",
    "\n",
    "# Exportation en .csv des df finaux\n",
    "\n",
    "df_tweets_random2.to_csv('scrp_random_2021_01_22.csv')\n",
    "df_tweets_likee2.to_csv('scrp_like_2021_01_22.csv')\n",
    "\n",
    "# Concaténation de nos 4 dfs\n",
    "df_twitter2 = pd.concat([df_tweets_random2, df_tweets_likee2], axis=0, ignore_index=True)\n",
    "\n",
    "# Exportation en .csv de l'ensemble du jeu de donné\n",
    "df_twitter2.to_csv('T_FINAL_3.csv')\n",
    "df_twitter2.head(5)"
   ]
  },
  {
   "cell_type": "code",
   "execution_count": null,
   "metadata": {},
   "outputs": [],
   "source": [
    "# 15/04/2021\n",
    "\n",
    "tweets_random2 = []\n",
    "tweets_likee2 = []\n",
    "\n",
    "for g,tweet in enumerate(sntwitter.TwitterSearchScraper('#bitcoin since:2021-04-14 until:2021-04-17 lang:en').get_items()):\n",
    "    if g>83333:\n",
    "        break\n",
    "    \n",
    "    elif tweet.likeCount > 200: # On récupère tous les tweets au dessus de 200 like\n",
    "        tweets_likee2.append([tweet.date, tweet.id, tweet.content, tweet.user.username, tweet.likeCount, tweet.user.displayname, tweet.user.verified, tweet.lang])\n",
    "    else :\n",
    "        tweets_random2.append([tweet.date, tweet.id, tweet.content, tweet.user.username, tweet.likeCount, tweet.user.displayname, tweet.user.verified, tweet.lang])\n",
    "\n",
    "label = ['Datetime', 'Id Tweet', 'Text', 'Username', 'Like Count', 'Display Name', 'Vérifié', 'Language']\n",
    "\n",
    "df_tweets_random3 = pd.DataFrame(tweets_random2, columns=label)\n",
    "df_tweets_likee3 = pd.DataFrame(tweets_likee2, columns=label)\n",
    "\n",
    "# Exportation en .csv des df finaux\n",
    "\n",
    "df_tweets_random3.to_csv('scrp_random_2021_04_15.csv')\n",
    "df_tweets_likee3.to_csv('scrp_like_2021_04_15.csv')\n",
    "\n",
    "# Concaténation de nos 4 dfs\n",
    "df_twitter3 = pd.concat([df_tweets_random3, df_tweets_likee3], axis=0, ignore_index=True)\n",
    "\n",
    "# Exportation en .csv de l'ensemble du jeu de donné\n",
    "df_twitter3.to_csv('T_FINAL_4.csv')\n",
    "df_twitter3.head(5)"
   ]
  },
  {
   "cell_type": "code",
   "execution_count": null,
   "metadata": {},
   "outputs": [],
   "source": [
    "# 18/05/2021\n",
    "\n",
    "tweets_random2 = []\n",
    "tweets_likee2 = []\n",
    "\n",
    "for g,tweet in enumerate(sntwitter.TwitterSearchScraper('#bitcoin since:2021-05-17 until:2021-05-20 lang:en').get_items()):\n",
    "    if g>83333:\n",
    "        break\n",
    "    \n",
    "    elif tweet.likeCount > 200: # On récupère tous les tweets au dessus de 200 like\n",
    "        tweets_likee2.append([tweet.date, tweet.id, tweet.content, tweet.user.username, tweet.likeCount, tweet.user.displayname, tweet.user.verified, tweet.lang])\n",
    "    else :\n",
    "        tweets_random2.append([tweet.date, tweet.id, tweet.content, tweet.user.username, tweet.likeCount, tweet.user.displayname, tweet.user.verified, tweet.lang])\n",
    "\n",
    "label = ['Datetime', 'Id Tweet', 'Text', 'Username', 'Like Count', 'Display Name', 'Vérifié', 'Language']\n",
    "\n",
    "df_tweets_random4 = pd.DataFrame(tweets_random2, columns=label)\n",
    "df_tweets_likee4 = pd.DataFrame(tweets_likee2, columns=label)\n",
    "\n",
    "# Exportation en .csv des df finaux\n",
    "\n",
    "df_tweets_random4.to_csv('scrp_random_2021_05_18.csv')\n",
    "df_tweets_likee4.to_csv('scrp_like_2021_05_18.csv')\n",
    "\n",
    "# Concaténation de nos 4 dfs\n",
    "df_twitter4 = pd.concat([df_tweets_random4, df_tweets_likee4], axis=0, ignore_index=True)\n",
    "\n",
    "# Exportation en .csv de l'ensemble du jeu de donné\n",
    "df_twitter4.to_csv('T_FINAL_5.csv')\n",
    "df_twitter4.head(5)"
   ]
  },
  {
   "cell_type": "code",
   "execution_count": null,
   "metadata": {},
   "outputs": [],
   "source": [
    "# 18/07/2021\n",
    "\n",
    "tweets_random2 = []\n",
    "tweets_likee2 = []\n",
    "\n",
    "for g,tweet in enumerate(sntwitter.TwitterSearchScraper('#bitcoin since:2021-07-17 until:2021-07-20 lang:en').get_items()):\n",
    "    if g>83333:\n",
    "        break\n",
    "    \n",
    "    elif tweet.likeCount > 200: # On récupère tous les tweets au dessus de 200 like\n",
    "        tweets_likee2.append([tweet.date, tweet.id, tweet.content, tweet.user.username, tweet.likeCount, tweet.user.displayname, tweet.user.verified, tweet.lang])\n",
    "    else :\n",
    "        tweets_random2.append([tweet.date, tweet.id, tweet.content, tweet.user.username, tweet.likeCount, tweet.user.displayname, tweet.user.verified, tweet.lang])\n",
    "\n",
    "label = ['Datetime', 'Id Tweet', 'Text', 'Username', 'Like Count', 'Display Name', 'Vérifié', 'Language']\n",
    "\n",
    "df_tweets_random5 = pd.DataFrame(tweets_random2, columns=label)\n",
    "df_tweets_likee5 = pd.DataFrame(tweets_likee2, columns=label)\n",
    "\n",
    "# Exportation en .csv des df finaux\n",
    "\n",
    "df_tweets_random5.to_csv('scrp_random_2021_07_18.csv')\n",
    "df_tweets_likee5.to_csv('scrp_like_2021_07_18.csv')\n",
    "\n",
    "# Concaténation de nos 4 dfs\n",
    "df_twitter5 = pd.concat([df_tweets_random5, df_tweets_likee5], axis=0, ignore_index=True)\n",
    "\n",
    "# Exportation en .csv de l'ensemble du jeu de donné\n",
    "df_twitter5.to_csv('T_FINAL_6.csv')\n",
    "df_twitter5.head(5)"
   ]
  },
  {
   "cell_type": "code",
   "execution_count": null,
   "metadata": {},
   "outputs": [],
   "source": [
    "# 24/09/2021\n",
    "\n",
    "tweets_random2 = []\n",
    "tweets_likee2 = []\n",
    "\n",
    "for g,tweet in enumerate(sntwitter.TwitterSearchScraper('#bitcoin since:2021-09-23 until:2021-09-26 lang:en').get_items()):\n",
    "    if g>83333:\n",
    "        break\n",
    "    \n",
    "    elif tweet.likeCount > 200: # On récupère tous les tweets au dessus de 200 like\n",
    "        tweets_likee2.append([tweet.date, tweet.id, tweet.content, tweet.user.username, tweet.likeCount, tweet.user.displayname, tweet.user.verified, tweet.lang])\n",
    "    else :\n",
    "        tweets_random2.append([tweet.date, tweet.id, tweet.content, tweet.user.username, tweet.likeCount, tweet.user.displayname, tweet.user.verified, tweet.lang])\n",
    "\n",
    "label = ['Datetime', 'Id Tweet', 'Text', 'Username', 'Like Count', 'Display Name', 'Vérifié', 'Language']\n",
    "\n",
    "df_tweets_random6 = pd.DataFrame(tweets_random2, columns=label)\n",
    "df_tweets_likee6 = pd.DataFrame(tweets_likee2, columns=label)\n",
    "\n",
    "# Exportation en .csv des df finaux\n",
    "\n",
    "df_tweets_random6.to_csv('scrp_random_2021_09_24.csv')\n",
    "df_tweets_likee6.to_csv('scrp_like_2021_09_24.csv')\n",
    "\n",
    "# Concaténation de nos 4 dfs\n",
    "df_twitter6 = pd.concat([df_tweets_random6, df_tweets_likee6], axis=0, ignore_index=True)\n",
    "\n",
    "# Exportation en .csv de l'ensemble du jeu de donné\n",
    "df_twitter6.to_csv('T_FINAL_7.csv')\n",
    "df_twitter6.head(5)"
   ]
  },
  {
   "cell_type": "code",
   "execution_count": null,
   "metadata": {},
   "outputs": [],
   "source": [
    "# 10/11/2021\n",
    "\n",
    "tweets_random2 = []\n",
    "tweets_likee2 = []\n",
    "\n",
    "for g,tweet in enumerate(sntwitter.TwitterSearchScraper('#bitcoin since:2021-10-10 until:2021-10-13 lang:en').get_items()):\n",
    "    if g>83333:\n",
    "        break\n",
    "    \n",
    "    elif tweet.likeCount > 200: # On récupère tous les tweets au dessus de 200 like\n",
    "        tweets_likee2.append([tweet.date, tweet.id, tweet.content, tweet.user.username, tweet.likeCount, tweet.user.displayname, tweet.user.verified, tweet.lang])\n",
    "    else :\n",
    "        tweets_random2.append([tweet.date, tweet.id, tweet.content, tweet.user.username, tweet.likeCount, tweet.user.displayname, tweet.user.verified, tweet.lang])\n",
    "\n",
    "label = ['Datetime', 'Id Tweet', 'Text', 'Username', 'Like Count', 'Display Name', 'Vérifié', 'Language']\n",
    "\n",
    "df_tweets_random7 = pd.DataFrame(tweets_random2, columns=label)\n",
    "df_tweets_likee7 = pd.DataFrame(tweets_likee2, columns=label)\n",
    "\n",
    "# Exportation en .csv des df finaux\n",
    "\n",
    "df_tweets_random7.to_csv('scrp_random_2021_11_10.csv')\n",
    "df_tweets_likee7.to_csv('scrp_like_2021_11_10.csv')\n",
    "\n",
    "# Concaténation de nos 4 dfs\n",
    "df_twitter7 = pd.concat([df_tweets_random7, df_tweets_likee7], axis=0, ignore_index=True)\n",
    "\n",
    "# Exportation en .csv de l'ensemble du jeu de donné\n",
    "df_twitter7.to_csv('T_FINAL_8.csv')\n",
    "df_twitter7.head(5)"
   ]
  },
  {
   "cell_type": "code",
   "execution_count": null,
   "metadata": {},
   "outputs": [],
   "source": [
    "# 25/01/2022\n",
    "\n",
    "tweets_random2 = []\n",
    "tweets_likee2 = []\n",
    "\n",
    "for g,tweet in enumerate(sntwitter.TwitterSearchScraper('#bitcoin since:2022-01-24 until:2022-01-27 lang:en').get_items()):\n",
    "    if g>83333:\n",
    "        break\n",
    "    \n",
    "    elif tweet.likeCount > 200: # On récupère tous les tweets au dessus de 200 like\n",
    "        tweets_likee2.append([tweet.date, tweet.id, tweet.content, tweet.user.username, tweet.likeCount, tweet.user.displayname, tweet.user.verified, tweet.lang])\n",
    "    else :\n",
    "        tweets_random2.append([tweet.date, tweet.id, tweet.content, tweet.user.username, tweet.likeCount, tweet.user.displayname, tweet.user.verified, tweet.lang])\n",
    "\n",
    "label = ['Datetime', 'Id Tweet', 'Text', 'Username', 'Like Count', 'Display Name', 'Vérifié', 'Language']\n",
    "\n",
    "df_tweets_random8 = pd.DataFrame(tweets_random2, columns=label)\n",
    "df_tweets_likee8 = pd.DataFrame(tweets_likee2, columns=label)\n",
    "\n",
    "# Exportation en .csv des df finaux\n",
    "\n",
    "df_tweets_random8.to_csv('scrp_random_2022_01_25.csv')\n",
    "df_tweets_likee8.to_csv('scrp_like_2022_01_25.csv')\n",
    "\n",
    "# Concaténation de nos 4 dfs\n",
    "df_twitter8 = pd.concat([df_tweets_random8, df_tweets_likee8], axis=0, ignore_index=True)\n",
    "\n",
    "# Exportation en .csv de l'ensemble du jeu de donné\n",
    "df_twitter8.to_csv('T_FINAL_9.csv')\n",
    "df_twitter8.head(5)"
   ]
  },
  {
   "cell_type": "code",
   "execution_count": null,
   "metadata": {},
   "outputs": [],
   "source": [
    "# 06/04/2022\n",
    "\n",
    "tweets_random2 = []\n",
    "tweets_likee2 = []\n",
    "\n",
    "for g,tweet in enumerate(sntwitter.TwitterSearchScraper('#bitcoin since:2022-04-05 until:2022-04-08 lang:en').get_items()):\n",
    "    if g>83333:\n",
    "        break\n",
    "    \n",
    "    elif tweet.likeCount > 200: # On récupère tous les tweets au dessus de 200 like\n",
    "        tweets_likee2.append([tweet.date, tweet.id, tweet.content, tweet.user.username, tweet.likeCount, tweet.user.displayname, tweet.user.verified, tweet.lang])\n",
    "    else :\n",
    "        tweets_random2.append([tweet.date, tweet.id, tweet.content, tweet.user.username, tweet.likeCount, tweet.user.displayname, tweet.user.verified, tweet.lang])\n",
    "\n",
    "label = ['Datetime', 'Id Tweet', 'Text', 'Username', 'Like Count', 'Display Name', 'Vérifié', 'Language']\n",
    "\n",
    "df_tweets_random9 = pd.DataFrame(tweets_random2, columns=label)\n",
    "df_tweets_likee9 = pd.DataFrame(tweets_likee2, columns=label)\n",
    "\n",
    "# Exportation en .csv des df finaux\n",
    "\n",
    "df_tweets_random9.to_csv('scrp_random_2022_04_06.csv')\n",
    "df_tweets_likee9.to_csv('scrp_like_2022_04_06.csv')\n",
    "\n",
    "# Concaténation de nos 4 dfs\n",
    "df_twitter9 = pd.concat([df_tweets_random9, df_tweets_likee9], axis=0, ignore_index=True)\n",
    "\n",
    "# Exportation en .csv de l'ensemble du jeu de donné\n",
    "df_twitter9.to_csv('T_FINAL_10.csv')\n",
    "df_twitter9.head(5)"
   ]
  },
  {
   "cell_type": "code",
   "execution_count": null,
   "metadata": {},
   "outputs": [],
   "source": [
    "# 20/06/2022\n",
    "\n",
    "tweets_random2 = []\n",
    "tweets_likee2 = []\n",
    "\n",
    "for g,tweet in enumerate(sntwitter.TwitterSearchScraper('#bitcoin since:2022-06-19 until:2022-06-22 lang:en').get_items()):\n",
    "    if g>83333:\n",
    "        break\n",
    "    \n",
    "    elif tweet.likeCount > 200: # On récupère tous les tweets au dessus de 200 like\n",
    "        tweets_likee2.append([tweet.date, tweet.id, tweet.content, tweet.user.username, tweet.likeCount, tweet.user.displayname, tweet.user.verified, tweet.lang])\n",
    "    else :\n",
    "        tweets_random2.append([tweet.date, tweet.id, tweet.content, tweet.user.username, tweet.likeCount, tweet.user.displayname, tweet.user.verified, tweet.lang])\n",
    "\n",
    "label = ['Datetime', 'Id Tweet', 'Text', 'Username', 'Like Count', 'Display Name', 'Vérifié', 'Language']\n",
    "\n",
    "df_tweets_random10 = pd.DataFrame(tweets_random2, columns=label)\n",
    "df_tweets_likee10 = pd.DataFrame(tweets_likee2, columns=label)\n",
    "\n",
    "# Exportation en .csv des df finaux\n",
    "\n",
    "df_tweets_random10.to_csv('scrp_random_2022_06_20.csv')\n",
    "df_tweets_likee10.to_csv('scrp_like_2022_06_20.csv')\n",
    "\n",
    "# Concaténation de nos 4 dfs\n",
    "df_twitter10 = pd.concat([df_tweets_random10, df_tweets_likee10], axis=0, ignore_index=True)\n",
    "\n",
    "# Exportation en .csv de l'ensemble du jeu de donné\n",
    "df_twitter10.to_csv('T_FINAL_11.csv')\n",
    "df_twitter10.head(5)"
   ]
  },
  {
   "cell_type": "code",
   "execution_count": null,
   "metadata": {},
   "outputs": [],
   "source": [
    "# 11/07/2022\n",
    "\n",
    "tweets_random2 = []\n",
    "tweets_likee2 = []\n",
    "\n",
    "for g,tweet in enumerate(sntwitter.TwitterSearchScraper('#bitcoin since:2022-07-10 until:2022-07-13 lang:en').get_items()):\n",
    "    if g>83333:\n",
    "        break\n",
    "    \n",
    "    elif tweet.likeCount > 200: # On récupère tous les tweets au dessus de 200 like\n",
    "        tweets_likee2.append([tweet.date, tweet.id, tweet.content, tweet.user.username, tweet.likeCount, tweet.user.displayname, tweet.user.verified, tweet.lang])\n",
    "    else :\n",
    "        tweets_random2.append([tweet.date, tweet.id, tweet.content, tweet.user.username, tweet.likeCount, tweet.user.displayname, tweet.user.verified, tweet.lang])\n",
    "\n",
    "label = ['Datetime', 'Id Tweet', 'Text', 'Username', 'Like Count', 'Display Name', 'Vérifié', 'Language']\n",
    "\n",
    "df_tweets_random11 = pd.DataFrame(tweets_random2, columns=label)\n",
    "df_tweets_likee11 = pd.DataFrame(tweets_likee2, columns=label)\n",
    "\n",
    "# Exportation en .csv des df finaux\n",
    "\n",
    "df_tweets_random11.to_csv('scrp_random_2022_07_11.csv')\n",
    "df_tweets_likee11.to_csv('scrp_like_2022_07_11.csv')\n",
    "\n",
    "# Concaténation de nos 4 dfs\n",
    "df_twitter11 = pd.concat([df_tweets_random11, df_tweets_likee11], axis=0, ignore_index=True)\n",
    "\n",
    "# Exportation en .csv de l'ensemble du jeu de donné\n",
    "df_twitter11.to_csv('T_FINAL_12.csv')\n",
    "df_twitter11.head(5)"
   ]
  },
  {
   "cell_type": "code",
   "execution_count": null,
   "metadata": {},
   "outputs": [],
   "source": [
    "# 14/09/2022\n",
    "\n",
    "tweets_random2 = []\n",
    "tweets_likee2 = []\n",
    "\n",
    "for g,tweet in enumerate(sntwitter.TwitterSearchScraper('#bitcoin since:2022-09-13 until:2022-09-16 lang:en').get_items()):\n",
    "    if g>83333:\n",
    "        break\n",
    "    \n",
    "    elif tweet.likeCount > 200: # On récupère tous les tweets au dessus de 200 like\n",
    "        tweets_likee2.append([tweet.date, tweet.id, tweet.content, tweet.user.username, tweet.likeCount, tweet.user.displayname, tweet.user.verified, tweet.lang])\n",
    "    else :\n",
    "        tweets_random2.append([tweet.date, tweet.id, tweet.content, tweet.user.username, tweet.likeCount, tweet.user.displayname, tweet.user.verified, tweet.lang])\n",
    "\n",
    "label = ['Datetime', 'Id Tweet', 'Text', 'Username', 'Like Count', 'Display Name', 'Vérifié', 'Language']\n",
    "\n",
    "df_tweets_random12 = pd.DataFrame(tweets_random2, columns=label)\n",
    "df_tweets_likee12 = pd.DataFrame(tweets_likee2, columns=label)\n",
    "\n",
    "# Exportation en .csv des df finaux\n",
    "\n",
    "df_tweets_random12.to_csv('scrp_random_2022_09_14.csv')\n",
    "df_tweets_likee12.to_csv('scrp_like_2022_09_14.csv')\n",
    "\n",
    "# Concaténation de nos 4 dfs\n",
    "df_twitter12 = pd.concat([df_tweets_random12, df_tweets_likee12], axis=0, ignore_index=True)\n",
    "\n",
    "# Exportation en .csv de l'ensemble du jeu de donné\n",
    "df_twitter12.to_csv('T_FINAL_13.csv')\n",
    "df_twitter12.head(5)"
   ]
  },
  {
   "cell_type": "markdown",
   "metadata": {},
   "source": [
    "# **II. Data Management & Cleaning**"
   ]
  },
  {
   "cell_type": "markdown",
   "metadata": {},
   "source": [
    "**Chargement de la data scrapées**"
   ]
  },
  {
   "cell_type": "code",
   "execution_count": 2,
   "metadata": {},
   "outputs": [
    {
     "data": {
      "text/html": [
       "<div>\n",
       "<style scoped>\n",
       "    .dataframe tbody tr th:only-of-type {\n",
       "        vertical-align: middle;\n",
       "    }\n",
       "\n",
       "    .dataframe tbody tr th {\n",
       "        vertical-align: top;\n",
       "    }\n",
       "\n",
       "    .dataframe thead th {\n",
       "        text-align: right;\n",
       "    }\n",
       "</style>\n",
       "<table border=\"1\" class=\"dataframe\">\n",
       "  <thead>\n",
       "    <tr style=\"text-align: right;\">\n",
       "      <th></th>\n",
       "      <th>Datetime</th>\n",
       "      <th>Id Tweet</th>\n",
       "      <th>Text</th>\n",
       "      <th>Username</th>\n",
       "      <th>Like Count</th>\n",
       "      <th>Display Name</th>\n",
       "      <th>Vérifié</th>\n",
       "      <th>Language</th>\n",
       "    </tr>\n",
       "  </thead>\n",
       "  <tbody>\n",
       "    <tr>\n",
       "      <th>0</th>\n",
       "      <td>2020-12-19 23:59:58+00:00</td>\n",
       "      <td>1340446812247867393</td>\n",
       "      <td>We’re gonna see 30k+ corn sound and some of yo...</td>\n",
       "      <td>re_tweet</td>\n",
       "      <td>15</td>\n",
       "      <td>Pedro</td>\n",
       "      <td>False</td>\n",
       "      <td>en</td>\n",
       "    </tr>\n",
       "    <tr>\n",
       "      <th>1</th>\n",
       "      <td>2020-12-19 23:59:55+00:00</td>\n",
       "      <td>1340446798435942402</td>\n",
       "      <td>I found a Blue vault in Coin Hunt World!  http...</td>\n",
       "      <td>jpstunr</td>\n",
       "      <td>1</td>\n",
       "      <td>Jimmy Page</td>\n",
       "      <td>False</td>\n",
       "      <td>en</td>\n",
       "    </tr>\n",
       "    <tr>\n",
       "      <th>2</th>\n",
       "      <td>2020-12-19 23:59:44+00:00</td>\n",
       "      <td>1340446750457417728</td>\n",
       "      <td>@RyanSAdams Buy more #Bitcoin</td>\n",
       "      <td>cococryptotv</td>\n",
       "      <td>0</td>\n",
       "      <td>CoCo Crypto</td>\n",
       "      <td>False</td>\n",
       "      <td>en</td>\n",
       "    </tr>\n",
       "    <tr>\n",
       "      <th>3</th>\n",
       "      <td>2020-12-19 23:59:33+00:00</td>\n",
       "      <td>1340446706866016256</td>\n",
       "      <td>@pokerstarsgirl @MinesMetals Thought So and yo...</td>\n",
       "      <td>Stock_Farms</td>\n",
       "      <td>4</td>\n",
       "      <td>Stock Farmer</td>\n",
       "      <td>False</td>\n",
       "      <td>en</td>\n",
       "    </tr>\n",
       "    <tr>\n",
       "      <th>4</th>\n",
       "      <td>2020-12-19 23:59:28+00:00</td>\n",
       "      <td>1340446683868631044</td>\n",
       "      <td>#MFTUSDT $MFTUSDT $MFT $USDT #bitcoin #trading...</td>\n",
       "      <td>2Strawberries_</td>\n",
       "      <td>0</td>\n",
       "      <td>Two Strawberries</td>\n",
       "      <td>False</td>\n",
       "      <td>en</td>\n",
       "    </tr>\n",
       "  </tbody>\n",
       "</table>\n",
       "</div>"
      ],
      "text/plain": [
       "                    Datetime             Id Tweet  \\\n",
       "0  2020-12-19 23:59:58+00:00  1340446812247867393   \n",
       "1  2020-12-19 23:59:55+00:00  1340446798435942402   \n",
       "2  2020-12-19 23:59:44+00:00  1340446750457417728   \n",
       "3  2020-12-19 23:59:33+00:00  1340446706866016256   \n",
       "4  2020-12-19 23:59:28+00:00  1340446683868631044   \n",
       "\n",
       "                                                Text        Username  \\\n",
       "0  We’re gonna see 30k+ corn sound and some of yo...        re_tweet   \n",
       "1  I found a Blue vault in Coin Hunt World!  http...         jpstunr   \n",
       "2                      @RyanSAdams Buy more #Bitcoin    cococryptotv   \n",
       "3  @pokerstarsgirl @MinesMetals Thought So and yo...     Stock_Farms   \n",
       "4  #MFTUSDT $MFTUSDT $MFT $USDT #bitcoin #trading...  2Strawberries_   \n",
       "\n",
       "   Like Count      Display Name  Vérifié Language  \n",
       "0          15             Pedro    False       en  \n",
       "1           1        Jimmy Page    False       en  \n",
       "2           0       CoCo Crypto    False       en  \n",
       "3           4      Stock Farmer    False       en  \n",
       "4           0  Two Strawberries    False       en  "
      ]
     },
     "execution_count": 2,
     "metadata": {},
     "output_type": "execute_result"
    }
   ],
   "source": [
    "# On va importé l'ensemble des données scrappé vers un nouveau data frame \"df_twitter\" \n",
    "\n",
    "df_twitter0 = pd.read_csv(r'T_FINAL_1.csv', header=0)\n",
    "df_twitter1 = pd.read_csv(r'T_FINAL_2.csv', header=0)\n",
    "df_twitter2 = pd.read_csv(r'T_FINAL_3.csv', header=0)\n",
    "df_twitter3 = pd.read_csv(r'T_FINAL_4.csv', header=0)\n",
    "df_twitter4 = pd.read_csv(r'T_FINAL_5.csv', header=0)\n",
    "df_twitter5 = pd.read_csv(r'T_FINAL_6.csv', header=0)\n",
    "df_twitter6 = pd.read_csv(r'T_FINAL_7.csv', header=0)\n",
    "df_twitter7 = pd.read_csv(r'T_FINAL_8.csv', header=0)\n",
    "df_twitter8 = pd.read_csv(r'T_FINAL_9.csv', header=0)\n",
    "df_twitter9 = pd.read_csv(r'T_FINAL_10.csv', header=0)\n",
    "df_twitter10 = pd.read_csv(r'T_FINAL_11.csv', header=0)\n",
    "df_twitter11 = pd.read_csv(r'T_FINAL_12.csv', header=0)\n",
    "df_twitter12 = pd.read_csv(r'T_FINAL_13.csv', header=0)\n",
    "\n",
    "df_twitter0 = pd.DataFrame(df_twitter0)\n",
    "df_twitter1 = pd.DataFrame(df_twitter1)\n",
    "df_twitter2 = pd.DataFrame(df_twitter2)\n",
    "df_twitter3 = pd.DataFrame(df_twitter3)\n",
    "df_twitter4 = pd.DataFrame(df_twitter4)\n",
    "df_twitter5 = pd.DataFrame(df_twitter5)\n",
    "df_twitter6 = pd.DataFrame(df_twitter6)\n",
    "df_twitter7 = pd.DataFrame(df_twitter7)\n",
    "df_twitter8 = pd.DataFrame(df_twitter8)\n",
    "df_twitter9 = pd.DataFrame(df_twitter9)\n",
    "df_twitter10 = pd.DataFrame(df_twitter10)\n",
    "df_twitter11 = pd.DataFrame(df_twitter11)\n",
    "df_twitter12 = pd.DataFrame(df_twitter12)\n",
    "\n",
    "colsna = ['Unnamed: 0']\n",
    "\n",
    "df_twitter0 = df_twitter0.drop(columns=colsna)\n",
    "df_twitter1 = df_twitter1.drop(columns=colsna)\n",
    "df_twitter2 = df_twitter2.drop(columns=colsna)\n",
    "df_twitter3 = df_twitter3.drop(columns=colsna)\n",
    "df_twitter4 = df_twitter4.drop(columns=colsna)\n",
    "df_twitter5 = df_twitter5.drop(columns=colsna)\n",
    "df_twitter6 = df_twitter6.drop(columns=colsna)\n",
    "df_twitter7 = df_twitter7.drop(columns=colsna)\n",
    "df_twitter8 = df_twitter8.drop(columns=colsna)\n",
    "df_twitter9 = df_twitter9.drop(columns=colsna)\n",
    "df_twitter10 = df_twitter10.drop(columns=colsna)\n",
    "df_twitter11 = df_twitter11.drop(columns=colsna)\n",
    "df_twitter12 = df_twitter12.drop(columns=colsna)\n",
    "\n",
    "df_twitter = pd.concat([df_twitter0, df_twitter1, df_twitter2, df_twitter3, df_twitter4, df_twitter5, df_twitter6, df_twitter7, df_twitter8, df_twitter9, df_twitter10, df_twitter11, df_twitter12], axis=0, ignore_index=True)\n",
    "\n",
    "df_twitter.head(5)"
   ]
  },
  {
   "cell_type": "markdown",
   "metadata": {},
   "source": [
    "### **II.1 Pipeline de Nettoyage (NLP)**"
   ]
  },
  {
   "cell_type": "markdown",
   "metadata": {},
   "source": [
    "##### **II.1.1 Cheminement du cleaning**"
   ]
  },
  {
   "cell_type": "markdown",
   "metadata": {},
   "source": [
    "Une rapide inspection de la base nous permet de voir que la compréhension de certains tweets est difficile Le nettoyage sera d’autant plus important.\n",
    "après avoir fais ceci on procédera à un cleaning des données \n",
    "En NLP, on commence toujours par construire un pipeline de nettoyage des données. Le nettoyage des tweets comprendra plusieurs aspect qui vont comme suit:\n",
    "\n",
    "* Enlever les emojis \n",
    "\n",
    "* Retirer la ponctuation \n",
    "\n",
    "* Retirer les caractères spéciaux \n",
    "\n",
    "* Retirer les chiffres \n",
    "\n",
    "* Retirer les textes en italique\n",
    "\n",
    "Il est à noter que nous avons envisager une approche *descendante en difficulté*, pour ne pas se tromper il vaut mieux aller du plus restrictif au moins restrictif.\n"
   ]
  },
  {
   "cell_type": "code",
   "execution_count": 3,
   "metadata": {},
   "outputs": [],
   "source": [
    "df_twitter = df_twitter.dropna()"
   ]
  },
  {
   "cell_type": "code",
   "execution_count": null,
   "metadata": {},
   "outputs": [],
   "source": [
    "len(df_twitter)"
   ]
  },
  {
   "cell_type": "code",
   "execution_count": 4,
   "metadata": {},
   "outputs": [],
   "source": [
    "import pyspark as spark\n",
    "import pandas as pd\n",
    "import preprocessor as p\n",
    "import warnings\n",
    "warnings.filterwarnings('ignore')\n",
    "import pyspark\n",
    "from pyspark import SparkContext\n",
    "from pyspark.sql import SQLContext\n",
    "from pyspark.sql.types import *\n",
    "from pyspark.sql.functions import *\n",
    "import pandas as pd\n",
    "from pyspark.sql.types import *\n",
    "from pyspark.sql import SQLContext\n",
    "from pyspark.sql.functions import col,udf,monotonically_increasing_id,unix_timestamp,round,avg\n",
    "import re\n",
    "sc = spark.SparkContext()\n",
    "sql = spark.SQLContext(sc)\n",
    "\n",
    "from vaderSentiment.vaderSentiment import SentimentIntensityAnalyzer\n",
    "analyser = SentimentIntensityAnalyzer()"
   ]
  },
  {
   "cell_type": "code",
   "execution_count": 5,
   "metadata": {},
   "outputs": [
    {
     "data": {
      "text/html": [
       "<div>\n",
       "<style scoped>\n",
       "    .dataframe tbody tr th:only-of-type {\n",
       "        vertical-align: middle;\n",
       "    }\n",
       "\n",
       "    .dataframe tbody tr th {\n",
       "        vertical-align: top;\n",
       "    }\n",
       "\n",
       "    .dataframe thead th {\n",
       "        text-align: right;\n",
       "    }\n",
       "</style>\n",
       "<table border=\"1\" class=\"dataframe\">\n",
       "  <thead>\n",
       "    <tr style=\"text-align: right;\">\n",
       "      <th></th>\n",
       "      <th>Datetime</th>\n",
       "      <th>Id Tweet</th>\n",
       "      <th>Text</th>\n",
       "      <th>Username</th>\n",
       "      <th>Like Count</th>\n",
       "      <th>Display Name</th>\n",
       "      <th>Vérifié</th>\n",
       "      <th>Language</th>\n",
       "      <th>Clean</th>\n",
       "    </tr>\n",
       "  </thead>\n",
       "  <tbody>\n",
       "    <tr>\n",
       "      <th>0</th>\n",
       "      <td>2020-12-19 23:59:58+00:00</td>\n",
       "      <td>1340446812247867393</td>\n",
       "      <td>We’re gonna see 30k+ corn sound and some of yo...</td>\n",
       "      <td>re_tweet</td>\n",
       "      <td>15</td>\n",
       "      <td>Pedro</td>\n",
       "      <td>False</td>\n",
       "      <td>en</td>\n",
       "      <td>We’re gonna see 30k+ corn sound and some of yo...</td>\n",
       "    </tr>\n",
       "    <tr>\n",
       "      <th>1</th>\n",
       "      <td>2020-12-19 23:59:55+00:00</td>\n",
       "      <td>1340446798435942402</td>\n",
       "      <td>I found a Blue vault in Coin Hunt World!  http...</td>\n",
       "      <td>jpstunr</td>\n",
       "      <td>1</td>\n",
       "      <td>Jimmy Page</td>\n",
       "      <td>False</td>\n",
       "      <td>en</td>\n",
       "      <td>I found a Blue vault in Coin Hunt World   coin...</td>\n",
       "    </tr>\n",
       "    <tr>\n",
       "      <th>2</th>\n",
       "      <td>2020-12-19 23:59:44+00:00</td>\n",
       "      <td>1340446750457417728</td>\n",
       "      <td>@RyanSAdams Buy more #Bitcoin</td>\n",
       "      <td>cococryptotv</td>\n",
       "      <td>0</td>\n",
       "      <td>CoCo Crypto</td>\n",
       "      <td>False</td>\n",
       "      <td>en</td>\n",
       "      <td>RyanSAdams Buy more Bitcoin</td>\n",
       "    </tr>\n",
       "    <tr>\n",
       "      <th>3</th>\n",
       "      <td>2020-12-19 23:59:33+00:00</td>\n",
       "      <td>1340446706866016256</td>\n",
       "      <td>@pokerstarsgirl @MinesMetals Thought So and yo...</td>\n",
       "      <td>Stock_Farms</td>\n",
       "      <td>4</td>\n",
       "      <td>Stock Farmer</td>\n",
       "      <td>False</td>\n",
       "      <td>en</td>\n",
       "      <td>pokerstarsgirl MinesMetals Thought So and you ...</td>\n",
       "    </tr>\n",
       "    <tr>\n",
       "      <th>4</th>\n",
       "      <td>2020-12-19 23:59:28+00:00</td>\n",
       "      <td>1340446683868631044</td>\n",
       "      <td>#MFTUSDT $MFTUSDT $MFT $USDT #bitcoin #trading...</td>\n",
       "      <td>2Strawberries_</td>\n",
       "      <td>0</td>\n",
       "      <td>Two Strawberries</td>\n",
       "      <td>False</td>\n",
       "      <td>en</td>\n",
       "      <td>MFTUSDT MFTUSDT MFT USDT bitcoin trading crypt...</td>\n",
       "    </tr>\n",
       "  </tbody>\n",
       "</table>\n",
       "</div>"
      ],
      "text/plain": [
       "                    Datetime             Id Tweet  \\\n",
       "0  2020-12-19 23:59:58+00:00  1340446812247867393   \n",
       "1  2020-12-19 23:59:55+00:00  1340446798435942402   \n",
       "2  2020-12-19 23:59:44+00:00  1340446750457417728   \n",
       "3  2020-12-19 23:59:33+00:00  1340446706866016256   \n",
       "4  2020-12-19 23:59:28+00:00  1340446683868631044   \n",
       "\n",
       "                                                Text        Username  \\\n",
       "0  We’re gonna see 30k+ corn sound and some of yo...        re_tweet   \n",
       "1  I found a Blue vault in Coin Hunt World!  http...         jpstunr   \n",
       "2                      @RyanSAdams Buy more #Bitcoin    cococryptotv   \n",
       "3  @pokerstarsgirl @MinesMetals Thought So and yo...     Stock_Farms   \n",
       "4  #MFTUSDT $MFTUSDT $MFT $USDT #bitcoin #trading...  2Strawberries_   \n",
       "\n",
       "   Like Count      Display Name  Vérifié Language  \\\n",
       "0          15             Pedro    False       en   \n",
       "1           1        Jimmy Page    False       en   \n",
       "2           0       CoCo Crypto    False       en   \n",
       "3           4      Stock Farmer    False       en   \n",
       "4           0  Two Strawberries    False       en   \n",
       "\n",
       "                                               Clean  \n",
       "0  We’re gonna see 30k+ corn sound and some of yo...  \n",
       "1  I found a Blue vault in Coin Hunt World   coin...  \n",
       "2                        RyanSAdams Buy more Bitcoin  \n",
       "3  pokerstarsgirl MinesMetals Thought So and you ...  \n",
       "4  MFTUSDT MFTUSDT MFT USDT bitcoin trading crypt...  "
      ]
     },
     "execution_count": 5,
     "metadata": {},
     "output_type": "execute_result"
    }
   ],
   "source": [
    "import emoji\n",
    "import regex\n",
    "from emoji import EMOJI_DATA\n",
    "\n",
    "def get_emoji_regexp():\n",
    "    # Sort emoji by length to make sure multi-character emojis are\n",
    "    # matched first\n",
    "    emojis = sorted(emoji.EMOJI_DATA, key=len, reverse=True)\n",
    "    pattern = u'(' + u'|'.join(re.escape(u) for u in emojis) + u')'\n",
    "    return re.compile(pattern)\n",
    "\n",
    "def pipeline_nlp(text):\n",
    "    liste =   [\n",
    "        (r\"'@\\S+'\"),\n",
    "        (r\"'\\n'\"),\n",
    "        (r\"[A-Za-z\\.][0-9]+[A-Za-z%°\\.]\"),\n",
    "        (r\"(\\s\\-\\s|-$)\"),\n",
    "        (r\"[,\\!\\?\\%\\(\\)\\/\\\"]\"),\n",
    "        (r\"\\&\\S*\\s\"),\n",
    "        (r\"\\&\"),\n",
    "        (r\"\\'\"),\n",
    "        (r\"\\#\"),\n",
    "        (r\"\\$\"),\n",
    "        (r\"\\£\"),\n",
    "        (r\"\\%\"),\n",
    "        (r\"\\-\"),\n",
    "        (r\"\\:\"),\n",
    "        (r\"\\@\"),\n",
    "        (r'http\\S+')\n",
    "        ]\n",
    "\n",
    "    pattern = r\"\"\n",
    "    \n",
    "    for s in liste:\n",
    "        text = re.sub(s, pattern, text)\n",
    "        text = emoji.get_emoji_regexp().sub(r'', text)\n",
    "    return text\n",
    "\n",
    "df_twitter['Clean'] = df_twitter['Text'].apply(pipeline_nlp)\n",
    "df_twitter.to_csv('T_FINAL.csv')\n",
    "df_twitter.head(5)"
   ]
  },
  {
   "cell_type": "markdown",
   "metadata": {},
   "source": [
    "### **II.2 Tokenisation**"
   ]
  },
  {
   "cell_type": "code",
   "execution_count": 7,
   "metadata": {},
   "outputs": [
    {
     "name": "stdout",
     "output_type": "stream",
     "text": [
      "Apple is looking at buying U.K. startup for $1 billion\n",
      "Apple PROPN nsubj\n",
      "is AUX aux\n",
      "looking VERB ROOT\n",
      "at ADP prep\n",
      "buying VERB pcomp\n",
      "U.K. PROPN dobj\n",
      "startup NOUN advcl\n",
      "for ADP prep\n",
      "$ SYM quantmod\n",
      "1 NUM compound\n",
      "billion NUM pobj\n"
     ]
    }
   ],
   "source": [
    "import spacy\n",
    "from spacy.lang.en.examples import sentences \n",
    "import sys\n",
    "\n",
    "# Application du référenciel spacy - language français\n",
    "\n",
    "nlp = spacy.load(\"en_core_web_sm\")\n",
    "\n",
    "doc = nlp(sentences[0])\n",
    "print(doc.text)\n",
    "for token in doc:\n",
    "    print(token.text, token.pos_, token.dep_)\n",
    "tokenizer = Tokenizer(nlp.vocab)\n",
    "\n",
    "# Importation des STOPWORDS du référenciel SpaCy \n",
    "\n",
    "from spacy.lang.en.stop_words import STOP_WORDS as en_stop\n",
    "\n",
    "final_stopwords_list = list(en_stop)\n",
    "tfidf_vectorizer = TfidfVectorizer(max_df=0.8,\n",
    "  max_features=200000,\n",
    "  min_df=0.2,\n",
    "  stop_words=final_stopwords_list,\n",
    "  use_idf=True,\n",
    "  tokenizer=tokenizer,\n",
    "  ngram_range=(1,3))\n",
    "\n",
    "# On itère cette boucle sur la nouvelle liste \"tokens\" qui contiens le texte traité auparavant\n",
    "\n",
    "tokens = []\n",
    "\n",
    "for document in tokenizer.pipe(df_twitter['Clean']):\n",
    "    doc_tokens = []\n",
    "    for token in document: \n",
    "        if token.text.lower() not in final_stopwords_list:\n",
    "            doc_tokens.append(token.text.lower())   \n",
    "    tokens.append(doc_tokens)\n",
    "\n",
    "df_twitter['tokens'] = tokens\n",
    "df_twitter['tokens_2_text'] = [' '.join(map(str, l)) for l in df_twitter['tokens']]"
   ]
  },
  {
   "cell_type": "markdown",
   "metadata": {},
   "source": [
    "### **II.3 Lemmatisation**"
   ]
  },
  {
   "cell_type": "code",
   "execution_count": 8,
   "metadata": {},
   "outputs": [],
   "source": [
    "def lemmatisation(text):\n",
    "    lemma = []\n",
    "    doc = nlp(text)\n",
    "    \n",
    "    # On itére sur chaque mots en utilisant le package linguistique Spacy\n",
    "    for token in doc: \n",
    "        # En cas de ponctuation défaillante -> on utilisation les STOPWORDS \n",
    "        if ((token.is_stop == False) and (token.is_punct == False)) and (token.pos_ != 'PRON'):\n",
    "            lemma.append(token.lemma_)\n",
    "    \n",
    "    return lemma\n",
    "\n",
    "# Utilisation de la fonction crée au dessus afin de construire une nouvelle colonne \"lemma\"\n",
    "df_twitter['lemma'] = df_twitter['tokens_2_text'].apply(lemmatisation)\n",
    "# Repassage sous forme de String\n",
    "df_twitter['lemma'] = [' '.join(map(str, l)) for l in df_twitter['lemma']]\n",
    "\n",
    "# Deuxième tokénisation sur le corpus déjà lemmatisé\n",
    "\n",
    "text_lemma = []\n",
    "\n",
    "for doc in tokenizer.pipe(df_twitter['lemma']):\n",
    "    doc_lemma = []    \n",
    "    for token in doc: \n",
    "        if token.text.lower() not in final_stopwords_list:\n",
    "            doc_lemma.append(token.text.lower())   \n",
    "    text_lemma.append(doc_lemma)\n",
    "\n",
    "df_twitter['lemmatized_token'] = text_lemma"
   ]
  },
  {
   "cell_type": "markdown",
   "metadata": {},
   "source": [
    "### **II.4 Exportation du dataset**"
   ]
  },
  {
   "cell_type": "code",
   "execution_count": 9,
   "metadata": {},
   "outputs": [],
   "source": [
    "# Enregistrement en fichier csv de la data final tokeniser & lemmaliser\n",
    "\n",
    "df_twitter.to_csv('TKN_FINAL.csv')"
   ]
  },
  {
   "cell_type": "markdown",
   "metadata": {},
   "source": [
    "# **III. SENTIMENTAL ANALYSIS**"
   ]
  },
  {
   "cell_type": "code",
   "execution_count": 10,
   "metadata": {},
   "outputs": [
    {
     "data": {
      "text/html": [
       "<div>\n",
       "<style scoped>\n",
       "    .dataframe tbody tr th:only-of-type {\n",
       "        vertical-align: middle;\n",
       "    }\n",
       "\n",
       "    .dataframe tbody tr th {\n",
       "        vertical-align: top;\n",
       "    }\n",
       "\n",
       "    .dataframe thead th {\n",
       "        text-align: right;\n",
       "    }\n",
       "</style>\n",
       "<table border=\"1\" class=\"dataframe\">\n",
       "  <thead>\n",
       "    <tr style=\"text-align: right;\">\n",
       "      <th></th>\n",
       "      <th>Datetime</th>\n",
       "      <th>Username</th>\n",
       "      <th>Clean</th>\n",
       "    </tr>\n",
       "  </thead>\n",
       "  <tbody>\n",
       "    <tr>\n",
       "      <th>0</th>\n",
       "      <td>2020-12-19 23:59:58+00:00</td>\n",
       "      <td>re_tweet</td>\n",
       "      <td>We’re gonna see 30k+ corn sound and some of yo...</td>\n",
       "    </tr>\n",
       "    <tr>\n",
       "      <th>1</th>\n",
       "      <td>2020-12-19 23:59:55+00:00</td>\n",
       "      <td>jpstunr</td>\n",
       "      <td>I found a Blue vault in Coin Hunt World   coin...</td>\n",
       "    </tr>\n",
       "    <tr>\n",
       "      <th>2</th>\n",
       "      <td>2020-12-19 23:59:44+00:00</td>\n",
       "      <td>cococryptotv</td>\n",
       "      <td>RyanSAdams Buy more Bitcoin</td>\n",
       "    </tr>\n",
       "    <tr>\n",
       "      <th>3</th>\n",
       "      <td>2020-12-19 23:59:33+00:00</td>\n",
       "      <td>Stock_Farms</td>\n",
       "      <td>pokerstarsgirl MinesMetals Thought So and you ...</td>\n",
       "    </tr>\n",
       "    <tr>\n",
       "      <th>4</th>\n",
       "      <td>2020-12-19 23:59:28+00:00</td>\n",
       "      <td>2Strawberries_</td>\n",
       "      <td>MFTUSDT MFTUSDT MFT USDT bitcoin trading crypt...</td>\n",
       "    </tr>\n",
       "  </tbody>\n",
       "</table>\n",
       "</div>"
      ],
      "text/plain": [
       "                    Datetime        Username  \\\n",
       "0  2020-12-19 23:59:58+00:00        re_tweet   \n",
       "1  2020-12-19 23:59:55+00:00         jpstunr   \n",
       "2  2020-12-19 23:59:44+00:00    cococryptotv   \n",
       "3  2020-12-19 23:59:33+00:00     Stock_Farms   \n",
       "4  2020-12-19 23:59:28+00:00  2Strawberries_   \n",
       "\n",
       "                                               Clean  \n",
       "0  We’re gonna see 30k+ corn sound and some of yo...  \n",
       "1  I found a Blue vault in Coin Hunt World   coin...  \n",
       "2                        RyanSAdams Buy more Bitcoin  \n",
       "3  pokerstarsgirl MinesMetals Thought So and you ...  \n",
       "4  MFTUSDT MFTUSDT MFT USDT bitcoin trading crypt...  "
      ]
     },
     "execution_count": 10,
     "metadata": {},
     "output_type": "execute_result"
    }
   ],
   "source": [
    "df_tweets=pd.read_csv(\"TKN_FINAL.csv\")\n",
    "df_good = df_tweets.copy()\n",
    "\n",
    "df_good = df_good.drop('Id Tweet', axis=1)\n",
    "df_good = df_good.drop('Unnamed: 0', axis=1)\n",
    "df_good = df_good.drop('Text', axis=1)\n",
    "df_good = df_good.drop('Display Name', axis=1)\n",
    "df_good = df_good.drop('Like Count', axis=1)\n",
    "df_good = df_good.drop('Vérifié', axis=1)\n",
    "df_good = df_good.drop('Language', axis=1)\n",
    "df_good = df_good.drop('lemmatized_token', axis=1)\n",
    "df_good = df_good.drop('tokens', axis=1)\n",
    "df_good = df_good.drop('tokens_2_text', axis=1)\n",
    "df_good = df_good.drop('lemma', axis=1)\n",
    "\n",
    "df_good.head(5)"
   ]
  },
  {
   "cell_type": "code",
   "execution_count": 11,
   "metadata": {},
   "outputs": [
    {
     "data": {
      "text/html": [
       "<div>\n",
       "<style scoped>\n",
       "    .dataframe tbody tr th:only-of-type {\n",
       "        vertical-align: middle;\n",
       "    }\n",
       "\n",
       "    .dataframe tbody tr th {\n",
       "        vertical-align: top;\n",
       "    }\n",
       "\n",
       "    .dataframe thead th {\n",
       "        text-align: right;\n",
       "    }\n",
       "</style>\n",
       "<table border=\"1\" class=\"dataframe\">\n",
       "  <thead>\n",
       "    <tr style=\"text-align: right;\">\n",
       "      <th></th>\n",
       "      <th>Date</th>\n",
       "      <th>Username</th>\n",
       "      <th>Clean</th>\n",
       "    </tr>\n",
       "  </thead>\n",
       "  <tbody>\n",
       "    <tr>\n",
       "      <th>0</th>\n",
       "      <td>19/12/2020</td>\n",
       "      <td>re_tweet</td>\n",
       "      <td>We’re gonna see 30k+ corn sound and some of yo...</td>\n",
       "    </tr>\n",
       "    <tr>\n",
       "      <th>1</th>\n",
       "      <td>19/12/2020</td>\n",
       "      <td>jpstunr</td>\n",
       "      <td>I found a Blue vault in Coin Hunt World   coin...</td>\n",
       "    </tr>\n",
       "    <tr>\n",
       "      <th>2</th>\n",
       "      <td>19/12/2020</td>\n",
       "      <td>cococryptotv</td>\n",
       "      <td>RyanSAdams Buy more Bitcoin</td>\n",
       "    </tr>\n",
       "    <tr>\n",
       "      <th>3</th>\n",
       "      <td>19/12/2020</td>\n",
       "      <td>Stock_Farms</td>\n",
       "      <td>pokerstarsgirl MinesMetals Thought So and you ...</td>\n",
       "    </tr>\n",
       "    <tr>\n",
       "      <th>4</th>\n",
       "      <td>19/12/2020</td>\n",
       "      <td>2Strawberries_</td>\n",
       "      <td>MFTUSDT MFTUSDT MFT USDT bitcoin trading crypt...</td>\n",
       "    </tr>\n",
       "    <tr>\n",
       "      <th>...</th>\n",
       "      <td>...</td>\n",
       "      <td>...</td>\n",
       "      <td>...</td>\n",
       "    </tr>\n",
       "    <tr>\n",
       "      <th>851893</th>\n",
       "      <td>13/09/2022</td>\n",
       "      <td>plan_marcus</td>\n",
       "      <td>Opt out \\nBuy bitcoin</td>\n",
       "    </tr>\n",
       "    <tr>\n",
       "      <th>851894</th>\n",
       "      <td>13/09/2022</td>\n",
       "      <td>BTCTN</td>\n",
       "      <td>Financial giant State Street has revealed that...</td>\n",
       "    </tr>\n",
       "    <tr>\n",
       "      <th>851895</th>\n",
       "      <td>13/09/2022</td>\n",
       "      <td>MatthewHyland_</td>\n",
       "      <td>Bitcoin 3Day RSI has broken out of the 20 mont...</td>\n",
       "    </tr>\n",
       "    <tr>\n",
       "      <th>851896</th>\n",
       "      <td>13/09/2022</td>\n",
       "      <td>Nebraskangooner</td>\n",
       "      <td>Bitcoin\\n\\nBig volume drop off.</td>\n",
       "    </tr>\n",
       "    <tr>\n",
       "      <th>851897</th>\n",
       "      <td>13/09/2022</td>\n",
       "      <td>WeyaLand</td>\n",
       "      <td>Will you be able to handle these NFTS...Lets s...</td>\n",
       "    </tr>\n",
       "  </tbody>\n",
       "</table>\n",
       "<p>851898 rows × 3 columns</p>\n",
       "</div>"
      ],
      "text/plain": [
       "              Date         Username  \\\n",
       "0       19/12/2020         re_tweet   \n",
       "1       19/12/2020          jpstunr   \n",
       "2       19/12/2020     cococryptotv   \n",
       "3       19/12/2020      Stock_Farms   \n",
       "4       19/12/2020   2Strawberries_   \n",
       "...            ...              ...   \n",
       "851893  13/09/2022      plan_marcus   \n",
       "851894  13/09/2022            BTCTN   \n",
       "851895  13/09/2022   MatthewHyland_   \n",
       "851896  13/09/2022  Nebraskangooner   \n",
       "851897  13/09/2022         WeyaLand   \n",
       "\n",
       "                                                    Clean  \n",
       "0       We’re gonna see 30k+ corn sound and some of yo...  \n",
       "1       I found a Blue vault in Coin Hunt World   coin...  \n",
       "2                             RyanSAdams Buy more Bitcoin  \n",
       "3       pokerstarsgirl MinesMetals Thought So and you ...  \n",
       "4       MFTUSDT MFTUSDT MFT USDT bitcoin trading crypt...  \n",
       "...                                                   ...  \n",
       "851893                            Opt out \\nBuy bitcoin    \n",
       "851894  Financial giant State Street has revealed that...  \n",
       "851895  Bitcoin 3Day RSI has broken out of the 20 mont...  \n",
       "851896                   Bitcoin\\n\\nBig volume drop off.   \n",
       "851897  Will you be able to handle these NFTS...Lets s...  \n",
       "\n",
       "[851898 rows x 3 columns]"
      ]
     },
     "execution_count": 11,
     "metadata": {},
     "output_type": "execute_result"
    }
   ],
   "source": [
    "df_good.rename(columns = {'Datetime':'Date'}, inplace = True)\n",
    "df_good['Date'] = pd.to_datetime(df_good['Date'])\n",
    "df_good['Date'] = df_good['Date'].dt.strftime('%d/%m/%Y')\n",
    "\n",
    "df_gg = df_good.copy()\n",
    "\n",
    "df_good"
   ]
  },
  {
   "cell_type": "code",
   "execution_count": 12,
   "metadata": {},
   "outputs": [
    {
     "data": {
      "text/html": [
       "<div>\n",
       "<style scoped>\n",
       "    .dataframe tbody tr th:only-of-type {\n",
       "        vertical-align: middle;\n",
       "    }\n",
       "\n",
       "    .dataframe tbody tr th {\n",
       "        vertical-align: top;\n",
       "    }\n",
       "\n",
       "    .dataframe thead th {\n",
       "        text-align: right;\n",
       "    }\n",
       "</style>\n",
       "<table border=\"1\" class=\"dataframe\">\n",
       "  <thead>\n",
       "    <tr style=\"text-align: right;\">\n",
       "      <th></th>\n",
       "      <th>Date</th>\n",
       "      <th>Username</th>\n",
       "      <th>Clean</th>\n",
       "      <th>Polarity</th>\n",
       "    </tr>\n",
       "  </thead>\n",
       "  <tbody>\n",
       "    <tr>\n",
       "      <th>0</th>\n",
       "      <td>19/12/2020</td>\n",
       "      <td>re_tweet</td>\n",
       "      <td>We’re gonna see 30k+ corn sound and some of yo...</td>\n",
       "      <td>-0.2</td>\n",
       "    </tr>\n",
       "    <tr>\n",
       "      <th>1</th>\n",
       "      <td>19/12/2020</td>\n",
       "      <td>jpstunr</td>\n",
       "      <td>I found a Blue vault in Coin Hunt World   coin...</td>\n",
       "      <td>0.0</td>\n",
       "    </tr>\n",
       "    <tr>\n",
       "      <th>2</th>\n",
       "      <td>19/12/2020</td>\n",
       "      <td>cococryptotv</td>\n",
       "      <td>RyanSAdams Buy more Bitcoin</td>\n",
       "      <td>0.5</td>\n",
       "    </tr>\n",
       "    <tr>\n",
       "      <th>3</th>\n",
       "      <td>19/12/2020</td>\n",
       "      <td>Stock_Farms</td>\n",
       "      <td>pokerstarsgirl MinesMetals Thought So and you ...</td>\n",
       "      <td>0.2</td>\n",
       "    </tr>\n",
       "    <tr>\n",
       "      <th>4</th>\n",
       "      <td>19/12/2020</td>\n",
       "      <td>2Strawberries_</td>\n",
       "      <td>MFTUSDT MFTUSDT MFT USDT bitcoin trading crypt...</td>\n",
       "      <td>0.0</td>\n",
       "    </tr>\n",
       "  </tbody>\n",
       "</table>\n",
       "</div>"
      ],
      "text/plain": [
       "         Date        Username  \\\n",
       "0  19/12/2020        re_tweet   \n",
       "1  19/12/2020         jpstunr   \n",
       "2  19/12/2020    cococryptotv   \n",
       "3  19/12/2020     Stock_Farms   \n",
       "4  19/12/2020  2Strawberries_   \n",
       "\n",
       "                                               Clean  Polarity  \n",
       "0  We’re gonna see 30k+ corn sound and some of yo...      -0.2  \n",
       "1  I found a Blue vault in Coin Hunt World   coin...       0.0  \n",
       "2                        RyanSAdams Buy more Bitcoin       0.5  \n",
       "3  pokerstarsgirl MinesMetals Thought So and you ...       0.2  \n",
       "4  MFTUSDT MFTUSDT MFT USDT bitcoin trading crypt...       0.0  "
      ]
     },
     "execution_count": 12,
     "metadata": {},
     "output_type": "execute_result"
    }
   ],
   "source": [
    "# Creation function to get the polarity \n",
    "\n",
    "from textblob import TextBlob\n",
    "\n",
    "def getPolarity(text):\n",
    "    return TextBlob(text).sentiment.polarity\n",
    "\n",
    "# Create one new column on df\n",
    "df_good['Polarity'] = df_good['Clean'].apply(getPolarity)\n",
    "\n",
    "df_good.head(5)"
   ]
  },
  {
   "cell_type": "code",
   "execution_count": 13,
   "metadata": {},
   "outputs": [
    {
     "data": {
      "text/html": [
       "<div>\n",
       "<style scoped>\n",
       "    .dataframe tbody tr th:only-of-type {\n",
       "        vertical-align: middle;\n",
       "    }\n",
       "\n",
       "    .dataframe tbody tr th {\n",
       "        vertical-align: top;\n",
       "    }\n",
       "\n",
       "    .dataframe thead th {\n",
       "        text-align: right;\n",
       "    }\n",
       "</style>\n",
       "<table border=\"1\" class=\"dataframe\">\n",
       "  <thead>\n",
       "    <tr style=\"text-align: right;\">\n",
       "      <th></th>\n",
       "      <th>Date</th>\n",
       "      <th>Username</th>\n",
       "      <th>Clean</th>\n",
       "      <th>Polarity</th>\n",
       "      <th>Sentiment</th>\n",
       "    </tr>\n",
       "  </thead>\n",
       "  <tbody>\n",
       "    <tr>\n",
       "      <th>0</th>\n",
       "      <td>19/12/2020</td>\n",
       "      <td>re_tweet</td>\n",
       "      <td>We’re gonna see 30k+ corn sound and some of yo...</td>\n",
       "      <td>-0.200000</td>\n",
       "      <td>Weakly Negative</td>\n",
       "    </tr>\n",
       "    <tr>\n",
       "      <th>1</th>\n",
       "      <td>19/12/2020</td>\n",
       "      <td>jpstunr</td>\n",
       "      <td>I found a Blue vault in Coin Hunt World   coin...</td>\n",
       "      <td>0.000000</td>\n",
       "      <td>Neutral</td>\n",
       "    </tr>\n",
       "    <tr>\n",
       "      <th>2</th>\n",
       "      <td>19/12/2020</td>\n",
       "      <td>cococryptotv</td>\n",
       "      <td>RyanSAdams Buy more Bitcoin</td>\n",
       "      <td>0.500000</td>\n",
       "      <td>Positive</td>\n",
       "    </tr>\n",
       "    <tr>\n",
       "      <th>3</th>\n",
       "      <td>19/12/2020</td>\n",
       "      <td>Stock_Farms</td>\n",
       "      <td>pokerstarsgirl MinesMetals Thought So and you ...</td>\n",
       "      <td>0.200000</td>\n",
       "      <td>Weakly Positive</td>\n",
       "    </tr>\n",
       "    <tr>\n",
       "      <th>4</th>\n",
       "      <td>19/12/2020</td>\n",
       "      <td>2Strawberries_</td>\n",
       "      <td>MFTUSDT MFTUSDT MFT USDT bitcoin trading crypt...</td>\n",
       "      <td>0.000000</td>\n",
       "      <td>Neutral</td>\n",
       "    </tr>\n",
       "    <tr>\n",
       "      <th>5</th>\n",
       "      <td>19/12/2020</td>\n",
       "      <td>hugocesar87</td>\n",
       "      <td>tyler why should I invest in bitcoin I still d...</td>\n",
       "      <td>0.241071</td>\n",
       "      <td>Weakly Positive</td>\n",
       "    </tr>\n",
       "    <tr>\n",
       "      <th>6</th>\n",
       "      <td>19/12/2020</td>\n",
       "      <td>DeepBlueCrypto</td>\n",
       "      <td>zhusu Hey Su why’s China  and South Korea  sil...</td>\n",
       "      <td>0.000000</td>\n",
       "      <td>Neutral</td>\n",
       "    </tr>\n",
       "    <tr>\n",
       "      <th>7</th>\n",
       "      <td>19/12/2020</td>\n",
       "      <td>getmoni_io</td>\n",
       "      <td>The number of bitcoin millionaires increased b...</td>\n",
       "      <td>0.100000</td>\n",
       "      <td>Weakly Positive</td>\n",
       "    </tr>\n",
       "    <tr>\n",
       "      <th>8</th>\n",
       "      <td>19/12/2020</td>\n",
       "      <td>StutubeTrading</td>\n",
       "      <td>I know my following is pretty small yet but wo...</td>\n",
       "      <td>0.054545</td>\n",
       "      <td>Weakly Positive</td>\n",
       "    </tr>\n",
       "    <tr>\n",
       "      <th>9</th>\n",
       "      <td>19/12/2020</td>\n",
       "      <td>RobLicker</td>\n",
       "      <td>ToneVays have u checked out or covered fold_ap...</td>\n",
       "      <td>0.437500</td>\n",
       "      <td>Positive</td>\n",
       "    </tr>\n",
       "    <tr>\n",
       "      <th>10</th>\n",
       "      <td>19/12/2020</td>\n",
       "      <td>MelCooler</td>\n",
       "      <td>I don’t care how many platforms follow me that...</td>\n",
       "      <td>0.318182</td>\n",
       "      <td>Positive</td>\n",
       "    </tr>\n",
       "    <tr>\n",
       "      <th>11</th>\n",
       "      <td>19/12/2020</td>\n",
       "      <td>daim_io</td>\n",
       "      <td>We believe Bitcoin deserves a 110 allocation i...</td>\n",
       "      <td>0.085833</td>\n",
       "      <td>Weakly Positive</td>\n",
       "    </tr>\n",
       "    <tr>\n",
       "      <th>12</th>\n",
       "      <td>19/12/2020</td>\n",
       "      <td>CedYoungelman</td>\n",
       "      <td>419000 SATs for 100 \\n\\nBitcoin is so cheap ch...</td>\n",
       "      <td>0.361905</td>\n",
       "      <td>Positive</td>\n",
       "    </tr>\n",
       "    <tr>\n",
       "      <th>13</th>\n",
       "      <td>19/12/2020</td>\n",
       "      <td>TawanaTittle</td>\n",
       "      <td>I found a Blue vault in Coin Hunt World   coin...</td>\n",
       "      <td>0.000000</td>\n",
       "      <td>Neutral</td>\n",
       "    </tr>\n",
       "    <tr>\n",
       "      <th>14</th>\n",
       "      <td>19/12/2020</td>\n",
       "      <td>_Checkmatey_</td>\n",
       "      <td>Bitcoin price performance since the Dec 2018 l...</td>\n",
       "      <td>0.193333</td>\n",
       "      <td>Weakly Positive</td>\n",
       "    </tr>\n",
       "  </tbody>\n",
       "</table>\n",
       "</div>"
      ],
      "text/plain": [
       "          Date        Username  \\\n",
       "0   19/12/2020        re_tweet   \n",
       "1   19/12/2020         jpstunr   \n",
       "2   19/12/2020    cococryptotv   \n",
       "3   19/12/2020     Stock_Farms   \n",
       "4   19/12/2020  2Strawberries_   \n",
       "5   19/12/2020     hugocesar87   \n",
       "6   19/12/2020  DeepBlueCrypto   \n",
       "7   19/12/2020      getmoni_io   \n",
       "8   19/12/2020  StutubeTrading   \n",
       "9   19/12/2020       RobLicker   \n",
       "10  19/12/2020       MelCooler   \n",
       "11  19/12/2020         daim_io   \n",
       "12  19/12/2020   CedYoungelman   \n",
       "13  19/12/2020    TawanaTittle   \n",
       "14  19/12/2020    _Checkmatey_   \n",
       "\n",
       "                                                Clean  Polarity  \\\n",
       "0   We’re gonna see 30k+ corn sound and some of yo... -0.200000   \n",
       "1   I found a Blue vault in Coin Hunt World   coin...  0.000000   \n",
       "2                         RyanSAdams Buy more Bitcoin  0.500000   \n",
       "3   pokerstarsgirl MinesMetals Thought So and you ...  0.200000   \n",
       "4   MFTUSDT MFTUSDT MFT USDT bitcoin trading crypt...  0.000000   \n",
       "5   tyler why should I invest in bitcoin I still d...  0.241071   \n",
       "6   zhusu Hey Su why’s China  and South Korea  sil...  0.000000   \n",
       "7   The number of bitcoin millionaires increased b...  0.100000   \n",
       "8   I know my following is pretty small yet but wo...  0.054545   \n",
       "9   ToneVays have u checked out or covered fold_ap...  0.437500   \n",
       "10  I don’t care how many platforms follow me that...  0.318182   \n",
       "11  We believe Bitcoin deserves a 110 allocation i...  0.085833   \n",
       "12  419000 SATs for 100 \\n\\nBitcoin is so cheap ch...  0.361905   \n",
       "13  I found a Blue vault in Coin Hunt World   coin...  0.000000   \n",
       "14  Bitcoin price performance since the Dec 2018 l...  0.193333   \n",
       "\n",
       "          Sentiment  \n",
       "0   Weakly Negative  \n",
       "1           Neutral  \n",
       "2          Positive  \n",
       "3   Weakly Positive  \n",
       "4           Neutral  \n",
       "5   Weakly Positive  \n",
       "6           Neutral  \n",
       "7   Weakly Positive  \n",
       "8   Weakly Positive  \n",
       "9          Positive  \n",
       "10         Positive  \n",
       "11  Weakly Positive  \n",
       "12         Positive  \n",
       "13          Neutral  \n",
       "14  Weakly Positive  "
      ]
     },
     "execution_count": 13,
     "metadata": {},
     "output_type": "execute_result"
    }
   ],
   "source": [
    "# Create a function to compute negative, neutral & positive sentiments \n",
    "def getSentiment(polarity):\n",
    "    if (polarity == 0):\n",
    "        return \"Neutral\"\n",
    "    elif (polarity > 0 and polarity <= 0.3):\n",
    "        return \"Weakly Positive\"\n",
    "    elif (polarity > 0.3 and polarity <= 0.6):\n",
    "        return \"Positive\"\n",
    "    elif (polarity > 0.6 and polarity <= 1):\n",
    "        return \"Strongly Positive\"\n",
    "    elif (polarity > -0.3 and polarity <= 0):\n",
    "        return \"Weakly Negative\"\n",
    "    elif (polarity > -0.6 and polarity <= -0.3):\n",
    "        return \"Negative\"\n",
    "    elif (polarity > -1 and polarity <= -0.6):\n",
    "        return \"Strongly Negative\"\n",
    "\n",
    "# Create one new column on df\n",
    "df_good['Sentiment'] = df_good['Polarity'].apply(getSentiment)\n",
    "\n",
    "df_good.head(15)"
   ]
  },
  {
   "cell_type": "code",
   "execution_count": 14,
   "metadata": {},
   "outputs": [
    {
     "data": {
      "image/png": "[encoded data removed]",
      "text/plain": [
       "<Figure size 640x480 with 1 Axes>"
      ]
     },
     "metadata": {},
     "output_type": "display_data"
    }
   ],
   "source": [
    "# Plot & viz the sentiment count \n",
    "\n",
    "plt.title('Sentiment Analysis')\n",
    "df_good['Sentiment'].value_counts().plot(kind='bar')\n",
    "plt.xlabel('Sentiments')\n",
    "plt.ylabel('Counts')\n",
    "\n",
    "plt.show()"
   ]
  },
  {
   "cell_type": "code",
   "execution_count": 15,
   "metadata": {},
   "outputs": [
    {
     "data": {
      "text/plain": [
       "Date\n",
       "05/04/2022    22408\n",
       "06/04/2022    24331\n",
       "07/01/2021    27113\n",
       "07/04/2022    25349\n",
       "08/01/2021    23870\n",
       "09/01/2021    18954\n",
       "10/07/2022    16502\n",
       "10/10/2021    18433\n",
       "11/07/2022    21527\n",
       "11/10/2021    24755\n",
       "12/07/2022    21480\n",
       "12/10/2021    22868\n",
       "13/09/2022    24314\n",
       "14/04/2021    23521\n",
       "14/09/2022    21232\n",
       "15/04/2021    18130\n",
       "15/09/2022    20371\n",
       "16/04/2021    20317\n",
       "17/07/2021    14336\n",
       "17/12/2020    25580\n",
       "18/05/2021    13197\n",
       "18/07/2021    16614\n",
       "18/12/2020    14859\n",
       "19/05/2021    70133\n",
       "19/06/2022    27868\n",
       "19/07/2021    19211\n",
       "19/12/2020    13148\n",
       "20/01/2021    15134\n",
       "20/06/2022    25173\n",
       "21/01/2021    18788\n",
       "21/06/2022    24526\n",
       "22/01/2021    18740\n",
       "23/09/2021    21313\n",
       "24/01/2022    26382\n",
       "24/09/2021    30915\n",
       "25/01/2022    20512\n",
       "25/09/2021    19166\n",
       "26/01/2022    20828\n",
       "Name: Polarity, dtype: int64"
      ]
     },
     "execution_count": 15,
     "metadata": {},
     "output_type": "execute_result"
    }
   ],
   "source": [
    "# Get the count of each article per date \n",
    "polarity_count = df_good.groupby(['Date']).count()['Polarity']\n",
    "polarity = df_good.groupby(['Date']).sum()['Polarity']\n",
    "\n",
    "polarity_count"
   ]
  },
  {
   "cell_type": "code",
   "execution_count": 16,
   "metadata": {},
   "outputs": [
    {
     "data": {
      "text/plain": [
       "Date\n",
       "05/04/2022    0.124698\n",
       "06/04/2022    0.112109\n",
       "07/01/2021    0.099642\n",
       "07/04/2022    0.115708\n",
       "08/01/2021    0.104368\n",
       "09/01/2021    0.105529\n",
       "10/07/2022    0.116983\n",
       "10/10/2021    0.148998\n",
       "11/07/2022    0.101171\n",
       "11/10/2021    0.120879\n",
       "12/07/2022    0.101243\n",
       "12/10/2021    0.124563\n",
       "13/09/2022    0.093573\n",
       "14/04/2021    0.120282\n",
       "14/09/2022    0.103408\n",
       "15/04/2021    0.126018\n",
       "15/09/2022    0.109276\n",
       "16/04/2021    0.117692\n",
       "17/07/2021    0.132442\n",
       "17/12/2020    0.109434\n",
       "18/05/2021    0.135646\n",
       "18/07/2021    0.174592\n",
       "18/12/2020    0.119497\n",
       "19/05/2021    0.098384\n",
       "19/06/2022    0.102371\n",
       "19/07/2021    0.147688\n",
       "19/12/2020    0.114784\n",
       "20/01/2021    0.102936\n",
       "20/06/2022    0.104295\n",
       "21/01/2021    0.102405\n",
       "21/06/2022    0.107767\n",
       "22/01/2021    0.103442\n",
       "23/09/2021    0.147128\n",
       "24/01/2022    0.086729\n",
       "24/09/2021    0.146125\n",
       "25/01/2022    0.093496\n",
       "25/09/2021    0.170583\n",
       "26/01/2022    0.091619\n",
       "Name: Polarity, dtype: float64"
      ]
     },
     "execution_count": 16,
     "metadata": {},
     "output_type": "execute_result"
    }
   ],
   "source": [
    "# Average sentiment for each day over time\n",
    "polarity_avg = polarity / polarity_count\n",
    "polarity_avg"
   ]
  },
  {
   "cell_type": "code",
   "execution_count": 17,
   "metadata": {},
   "outputs": [
    {
     "data": {
      "text/html": [
       "<div>\n",
       "<style scoped>\n",
       "    .dataframe tbody tr th:only-of-type {\n",
       "        vertical-align: middle;\n",
       "    }\n",
       "\n",
       "    .dataframe tbody tr th {\n",
       "        vertical-align: top;\n",
       "    }\n",
       "\n",
       "    .dataframe thead th {\n",
       "        text-align: right;\n",
       "    }\n",
       "</style>\n",
       "<table border=\"1\" class=\"dataframe\">\n",
       "  <thead>\n",
       "    <tr style=\"text-align: right;\">\n",
       "      <th></th>\n",
       "      <th>Date</th>\n",
       "      <th>Sentiment</th>\n",
       "      <th>Value</th>\n",
       "    </tr>\n",
       "  </thead>\n",
       "  <tbody>\n",
       "    <tr>\n",
       "      <th>0</th>\n",
       "      <td>05/04/2022</td>\n",
       "      <td>Positive ++</td>\n",
       "      <td>5</td>\n",
       "    </tr>\n",
       "    <tr>\n",
       "      <th>1</th>\n",
       "      <td>06/04/2022</td>\n",
       "      <td>Positive ++</td>\n",
       "      <td>5</td>\n",
       "    </tr>\n",
       "    <tr>\n",
       "      <th>2</th>\n",
       "      <td>07/01/2021</td>\n",
       "      <td>Positive ++</td>\n",
       "      <td>3</td>\n",
       "    </tr>\n",
       "    <tr>\n",
       "      <th>3</th>\n",
       "      <td>07/04/2022</td>\n",
       "      <td>Positive ++</td>\n",
       "      <td>5</td>\n",
       "    </tr>\n",
       "    <tr>\n",
       "      <th>4</th>\n",
       "      <td>08/01/2021</td>\n",
       "      <td>Positive ++</td>\n",
       "      <td>5</td>\n",
       "    </tr>\n",
       "    <tr>\n",
       "      <th>5</th>\n",
       "      <td>09/01/2021</td>\n",
       "      <td>Positive ++</td>\n",
       "      <td>5</td>\n",
       "    </tr>\n",
       "    <tr>\n",
       "      <th>6</th>\n",
       "      <td>10/07/2022</td>\n",
       "      <td>Positive ++</td>\n",
       "      <td>5</td>\n",
       "    </tr>\n",
       "    <tr>\n",
       "      <th>7</th>\n",
       "      <td>10/10/2021</td>\n",
       "      <td>Positive ++</td>\n",
       "      <td>5</td>\n",
       "    </tr>\n",
       "    <tr>\n",
       "      <th>8</th>\n",
       "      <td>11/07/2022</td>\n",
       "      <td>Positive ++</td>\n",
       "      <td>5</td>\n",
       "    </tr>\n",
       "    <tr>\n",
       "      <th>9</th>\n",
       "      <td>11/10/2021</td>\n",
       "      <td>Positive ++</td>\n",
       "      <td>5</td>\n",
       "    </tr>\n",
       "    <tr>\n",
       "      <th>10</th>\n",
       "      <td>12/07/2022</td>\n",
       "      <td>Positive ++</td>\n",
       "      <td>5</td>\n",
       "    </tr>\n",
       "    <tr>\n",
       "      <th>11</th>\n",
       "      <td>12/10/2021</td>\n",
       "      <td>Positive ++</td>\n",
       "      <td>5</td>\n",
       "    </tr>\n",
       "    <tr>\n",
       "      <th>12</th>\n",
       "      <td>13/09/2022</td>\n",
       "      <td>Positive ++</td>\n",
       "      <td>3</td>\n",
       "    </tr>\n",
       "    <tr>\n",
       "      <th>13</th>\n",
       "      <td>14/04/2021</td>\n",
       "      <td>Positive ++</td>\n",
       "      <td>5</td>\n",
       "    </tr>\n",
       "    <tr>\n",
       "      <th>14</th>\n",
       "      <td>14/09/2022</td>\n",
       "      <td>Positive ++</td>\n",
       "      <td>5</td>\n",
       "    </tr>\n",
       "    <tr>\n",
       "      <th>15</th>\n",
       "      <td>15/04/2021</td>\n",
       "      <td>Positive ++</td>\n",
       "      <td>5</td>\n",
       "    </tr>\n",
       "    <tr>\n",
       "      <th>16</th>\n",
       "      <td>15/09/2022</td>\n",
       "      <td>Positive ++</td>\n",
       "      <td>5</td>\n",
       "    </tr>\n",
       "    <tr>\n",
       "      <th>17</th>\n",
       "      <td>16/04/2021</td>\n",
       "      <td>Positive ++</td>\n",
       "      <td>5</td>\n",
       "    </tr>\n",
       "    <tr>\n",
       "      <th>18</th>\n",
       "      <td>17/07/2021</td>\n",
       "      <td>Positive ++</td>\n",
       "      <td>5</td>\n",
       "    </tr>\n",
       "    <tr>\n",
       "      <th>19</th>\n",
       "      <td>17/12/2020</td>\n",
       "      <td>Positive ++</td>\n",
       "      <td>5</td>\n",
       "    </tr>\n",
       "    <tr>\n",
       "      <th>20</th>\n",
       "      <td>18/05/2021</td>\n",
       "      <td>Positive ++</td>\n",
       "      <td>5</td>\n",
       "    </tr>\n",
       "    <tr>\n",
       "      <th>21</th>\n",
       "      <td>18/07/2021</td>\n",
       "      <td>Positive ++</td>\n",
       "      <td>7</td>\n",
       "    </tr>\n",
       "    <tr>\n",
       "      <th>22</th>\n",
       "      <td>18/12/2020</td>\n",
       "      <td>Positive ++</td>\n",
       "      <td>5</td>\n",
       "    </tr>\n",
       "    <tr>\n",
       "      <th>23</th>\n",
       "      <td>19/05/2021</td>\n",
       "      <td>Positive ++</td>\n",
       "      <td>3</td>\n",
       "    </tr>\n",
       "    <tr>\n",
       "      <th>24</th>\n",
       "      <td>19/06/2022</td>\n",
       "      <td>Positive ++</td>\n",
       "      <td>5</td>\n",
       "    </tr>\n",
       "    <tr>\n",
       "      <th>25</th>\n",
       "      <td>19/07/2021</td>\n",
       "      <td>Positive ++</td>\n",
       "      <td>5</td>\n",
       "    </tr>\n",
       "    <tr>\n",
       "      <th>26</th>\n",
       "      <td>19/12/2020</td>\n",
       "      <td>Positive ++</td>\n",
       "      <td>5</td>\n",
       "    </tr>\n",
       "    <tr>\n",
       "      <th>27</th>\n",
       "      <td>20/01/2021</td>\n",
       "      <td>Positive ++</td>\n",
       "      <td>5</td>\n",
       "    </tr>\n",
       "    <tr>\n",
       "      <th>28</th>\n",
       "      <td>20/06/2022</td>\n",
       "      <td>Positive ++</td>\n",
       "      <td>5</td>\n",
       "    </tr>\n",
       "    <tr>\n",
       "      <th>29</th>\n",
       "      <td>21/01/2021</td>\n",
       "      <td>Positive ++</td>\n",
       "      <td>5</td>\n",
       "    </tr>\n",
       "    <tr>\n",
       "      <th>30</th>\n",
       "      <td>21/06/2022</td>\n",
       "      <td>Positive ++</td>\n",
       "      <td>5</td>\n",
       "    </tr>\n",
       "    <tr>\n",
       "      <th>31</th>\n",
       "      <td>22/01/2021</td>\n",
       "      <td>Positive ++</td>\n",
       "      <td>5</td>\n",
       "    </tr>\n",
       "    <tr>\n",
       "      <th>32</th>\n",
       "      <td>23/09/2021</td>\n",
       "      <td>Positive ++</td>\n",
       "      <td>5</td>\n",
       "    </tr>\n",
       "    <tr>\n",
       "      <th>33</th>\n",
       "      <td>24/01/2022</td>\n",
       "      <td>Positive ++</td>\n",
       "      <td>3</td>\n",
       "    </tr>\n",
       "    <tr>\n",
       "      <th>34</th>\n",
       "      <td>24/09/2021</td>\n",
       "      <td>Positive ++</td>\n",
       "      <td>5</td>\n",
       "    </tr>\n",
       "    <tr>\n",
       "      <th>35</th>\n",
       "      <td>25/01/2022</td>\n",
       "      <td>Positive ++</td>\n",
       "      <td>3</td>\n",
       "    </tr>\n",
       "    <tr>\n",
       "      <th>36</th>\n",
       "      <td>25/09/2021</td>\n",
       "      <td>Positive ++</td>\n",
       "      <td>7</td>\n",
       "    </tr>\n",
       "    <tr>\n",
       "      <th>37</th>\n",
       "      <td>26/01/2022</td>\n",
       "      <td>Positive ++</td>\n",
       "      <td>3</td>\n",
       "    </tr>\n",
       "  </tbody>\n",
       "</table>\n",
       "</div>"
      ],
      "text/plain": [
       "          Date    Sentiment  Value\n",
       "0   05/04/2022  Positive ++      5\n",
       "1   06/04/2022  Positive ++      5\n",
       "2   07/01/2021  Positive ++      3\n",
       "3   07/04/2022  Positive ++      5\n",
       "4   08/01/2021  Positive ++      5\n",
       "5   09/01/2021  Positive ++      5\n",
       "6   10/07/2022  Positive ++      5\n",
       "7   10/10/2021  Positive ++      5\n",
       "8   11/07/2022  Positive ++      5\n",
       "9   11/10/2021  Positive ++      5\n",
       "10  12/07/2022  Positive ++      5\n",
       "11  12/10/2021  Positive ++      5\n",
       "12  13/09/2022  Positive ++      3\n",
       "13  14/04/2021  Positive ++      5\n",
       "14  14/09/2022  Positive ++      5\n",
       "15  15/04/2021  Positive ++      5\n",
       "16  15/09/2022  Positive ++      5\n",
       "17  16/04/2021  Positive ++      5\n",
       "18  17/07/2021  Positive ++      5\n",
       "19  17/12/2020  Positive ++      5\n",
       "20  18/05/2021  Positive ++      5\n",
       "21  18/07/2021  Positive ++      7\n",
       "22  18/12/2020  Positive ++      5\n",
       "23  19/05/2021  Positive ++      3\n",
       "24  19/06/2022  Positive ++      5\n",
       "25  19/07/2021  Positive ++      5\n",
       "26  19/12/2020  Positive ++      5\n",
       "27  20/01/2021  Positive ++      5\n",
       "28  20/06/2022  Positive ++      5\n",
       "29  21/01/2021  Positive ++      5\n",
       "30  21/06/2022  Positive ++      5\n",
       "31  22/01/2021  Positive ++      5\n",
       "32  23/09/2021  Positive ++      5\n",
       "33  24/01/2022  Positive ++      3\n",
       "34  24/09/2021  Positive ++      5\n",
       "35  25/01/2022  Positive ++      3\n",
       "36  25/09/2021  Positive ++      7\n",
       "37  26/01/2022  Positive ++      3"
      ]
     },
     "execution_count": 17,
     "metadata": {},
     "output_type": "execute_result"
    }
   ],
   "source": [
    "# FINAL DF DATE/SENTIMENT/VALUE \n",
    "\n",
    "pol = pd.DataFrame(polarity_avg)\n",
    "\n",
    "# Create a function to compute negative, neutral & positive sentiments \n",
    "def getSentiments(score):\n",
    "    if score <= 0.04:\n",
    "        return 'Positive --'\n",
    "    elif score <= 0.05:\n",
    "        return 'Positive -'\n",
    "    elif score <= 0.07:\n",
    "        return 'Positive +'        \n",
    "    else:\n",
    "        return 'Positive ++'\n",
    "\n",
    "# Weighted Sentiments\n",
    "\n",
    "def getValues(score):\n",
    "    if score <= 0.04:\n",
    "        return -3\n",
    "    elif score <= 0.05:\n",
    "        return -2\n",
    "    elif score <= 0.06:\n",
    "        return 1\n",
    "    elif score <= 0.08:\n",
    "        return 2\n",
    "    elif score <= 0.10:\n",
    "        return 3\n",
    "    elif score <= 0.15:\n",
    "        return 5                   \n",
    "    else:\n",
    "        return 7\n",
    "\n",
    "# Create one new column on df\n",
    "pol['Sentiment'] = pol['Polarity'].apply(getSentiments)\n",
    "pol['Value'] = pol['Polarity'].apply(getValues)\n",
    "pol = pol.iloc[: , 1:]\n",
    "pol = pol.reset_index(inplace=False)\n",
    "pol = pol.sort_values(by=['Date'], ascending=True)\n",
    "\n",
    "pol"
   ]
  },
  {
   "cell_type": "code",
   "execution_count": 18,
   "metadata": {},
   "outputs": [
    {
     "data": {
      "application/vnd.plotly.v1+json": {
       "config": {
        "plotlyServerURL": "https://plot.ly"
       },
       "data": [
        {
         "alignmentgroup": "True",
         "hovertemplate": "Sentiment=Positive ++<br>Date=%{x}<br>Value=%{y}<extra></extra>",
         "legendgroup": "Positive ++",
         "marker": {
          "color": "#636efa",
          "pattern": {
           "shape": ""
          }
         },
         "name": "Positive ++",
         "offsetgroup": "Positive ++",
         "orientation": "v",
         "showlegend": true,
         "textposition": "auto",
         "type": "bar",
         "x": [
          "05/04/2022",
          "06/04/2022",
          "07/01/2021",
          "07/04/2022",
          "08/01/2021",
          "09/01/2021",
          "10/07/2022",
          "10/10/2021",
          "11/07/2022",
          "11/10/2021",
          "12/07/2022",
          "12/10/2021",
          "13/09/2022",
          "14/04/2021",
          "14/09/2022",
          "15/04/2021",
          "15/09/2022",
          "16/04/2021",
          "17/07/2021",
          "17/12/2020",
          "18/05/2021",
          "18/07/2021",
          "18/12/2020",
          "19/05/2021",
          "19/06/2022",
          "19/07/2021",
          "19/12/2020",
          "20/01/2021",
          "20/06/2022",
          "21/01/2021",
          "21/06/2022",
          "22/01/2021",
          "23/09/2021",
          "24/01/2022",
          "24/09/2021",
          "25/01/2022",
          "25/09/2021",
          "26/01/2022"
         ],
         "xaxis": "x",
         "y": [
          5,
          5,
          3,
          5,
          5,
          5,
          5,
          5,
          5,
          5,
          5,
          5,
          3,
          5,
          5,
          5,
          5,
          5,
          5,
          5,
          5,
          7,
          5,
          3,
          5,
          5,
          5,
          5,
          5,
          5,
          5,
          5,
          5,
          3,
          5,
          3,
          7,
          3
         ],
         "yaxis": "y"
        }
       ],
       "layout": {
        "barmode": "relative",
        "legend": {
         "title": {
          "text": "Sentiment"
         },
         "tracegroupgap": 0
        },
        "template": {
         "data": {
          "bar": [
           {
            "error_x": {
             "color": "#2a3f5f"
            },
            "error_y": {
             "color": "#2a3f5f"
            },
            "marker": {
             "line": {
              "color": "#E5ECF6",
              "width": 0.5
             },
             "pattern": {
              "fillmode": "overlay",
              "size": 10,
              "solidity": 0.2
             }
            },
            "type": "bar"
           }
          ],
          "barpolar": [
           {
            "marker": {
             "line": {
              "color": "#E5ECF6",
              "width": 0.5
             },
             "pattern": {
              "fillmode": "overlay",
              "size": 10,
              "solidity": 0.2
             }
            },
            "type": "barpolar"
           }
          ],
          "carpet": [
           {
            "aaxis": {
             "endlinecolor": "#2a3f5f",
             "gridcolor": "white",
             "linecolor": "white",
             "minorgridcolor": "white",
             "startlinecolor": "#2a3f5f"
            },
            "baxis": {
             "endlinecolor": "#2a3f5f",
             "gridcolor": "white",
             "linecolor": "white",
             "minorgridcolor": "white",
             "startlinecolor": "#2a3f5f"
            },
            "type": "carpet"
           }
          ],
          "choropleth": [
           {
            "colorbar": {
             "outlinewidth": 0,
             "ticks": ""
            },
            "type": "choropleth"
           }
          ],
          "contour": [
           {
            "colorbar": {
             "outlinewidth": 0,
             "ticks": ""
            },
            "colorscale": [
             [
              0,
              "#0d0887"
             ],
             [
              0.1111111111111111,
              "#46039f"
             ],
             [
              0.2222222222222222,
              "#7201a8"
             ],
             [
              0.3333333333333333,
              "#9c179e"
             ],
             [
              0.4444444444444444,
              "#bd3786"
             ],
             [
              0.5555555555555556,
              "#d8576b"
             ],
             [
              0.6666666666666666,
              "#ed7953"
             ],
             [
              0.7777777777777778,
              "#fb9f3a"
             ],
             [
              0.8888888888888888,
              "#fdca26"
             ],
             [
              1,
              "#f0f921"
             ]
            ],
            "type": "contour"
           }
          ],
          "contourcarpet": [
           {
            "colorbar": {
             "outlinewidth": 0,
             "ticks": ""
            },
            "type": "contourcarpet"
           }
          ],
          "heatmap": [
           {
            "colorbar": {
             "outlinewidth": 0,
             "ticks": ""
            },
            "colorscale": [
             [
              0,
              "#0d0887"
             ],
             [
              0.1111111111111111,
              "#46039f"
             ],
             [
              0.2222222222222222,
              "#7201a8"
             ],
             [
              0.3333333333333333,
              "#9c179e"
             ],
             [
              0.4444444444444444,
              "#bd3786"
             ],
             [
              0.5555555555555556,
              "#d8576b"
             ],
             [
              0.6666666666666666,
              "#ed7953"
             ],
             [
              0.7777777777777778,
              "#fb9f3a"
             ],
             [
              0.8888888888888888,
              "#fdca26"
             ],
             [
              1,
              "#f0f921"
             ]
            ],
            "type": "heatmap"
           }
          ],
          "heatmapgl": [
           {
            "colorbar": {
             "outlinewidth": 0,
             "ticks": ""
            },
            "colorscale": [
             [
              0,
              "#0d0887"
             ],
             [
              0.1111111111111111,
              "#46039f"
             ],
             [
              0.2222222222222222,
              "#7201a8"
             ],
             [
              0.3333333333333333,
              "#9c179e"
             ],
             [
              0.4444444444444444,
              "#bd3786"
             ],
             [
              0.5555555555555556,
              "#d8576b"
             ],
             [
              0.6666666666666666,
              "#ed7953"
             ],
             [
              0.7777777777777778,
              "#fb9f3a"
             ],
             [
              0.8888888888888888,
              "#fdca26"
             ],
             [
              1,
              "#f0f921"
             ]
            ],
            "type": "heatmapgl"
           }
          ],
          "histogram": [
           {
            "marker": {
             "pattern": {
              "fillmode": "overlay",
              "size": 10,
              "solidity": 0.2
             }
            },
            "type": "histogram"
           }
          ],
          "histogram2d": [
           {
            "colorbar": {
             "outlinewidth": 0,
             "ticks": ""
            },
            "colorscale": [
             [
              0,
              "#0d0887"
             ],
             [
              0.1111111111111111,
              "#46039f"
             ],
             [
              0.2222222222222222,
              "#7201a8"
             ],
             [
              0.3333333333333333,
              "#9c179e"
             ],
             [
              0.4444444444444444,
              "#bd3786"
             ],
             [
              0.5555555555555556,
              "#d8576b"
             ],
             [
              0.6666666666666666,
              "#ed7953"
             ],
             [
              0.7777777777777778,
              "#fb9f3a"
             ],
             [
              0.8888888888888888,
              "#fdca26"
             ],
             [
              1,
              "#f0f921"
             ]
            ],
            "type": "histogram2d"
           }
          ],
          "histogram2dcontour": [
           {
            "colorbar": {
             "outlinewidth": 0,
             "ticks": ""
            },
            "colorscale": [
             [
              0,
              "#0d0887"
             ],
             [
              0.1111111111111111,
              "#46039f"
             ],
             [
              0.2222222222222222,
              "#7201a8"
             ],
             [
              0.3333333333333333,
              "#9c179e"
             ],
             [
              0.4444444444444444,
              "#bd3786"
             ],
             [
              0.5555555555555556,
              "#d8576b"
             ],
             [
              0.6666666666666666,
              "#ed7953"
             ],
             [
              0.7777777777777778,
              "#fb9f3a"
             ],
             [
              0.8888888888888888,
              "#fdca26"
             ],
             [
              1,
              "#f0f921"
             ]
            ],
            "type": "histogram2dcontour"
           }
          ],
          "mesh3d": [
           {
            "colorbar": {
             "outlinewidth": 0,
             "ticks": ""
            },
            "type": "mesh3d"
           }
          ],
          "parcoords": [
           {
            "line": {
             "colorbar": {
              "outlinewidth": 0,
              "ticks": ""
             }
            },
            "type": "parcoords"
           }
          ],
          "pie": [
           {
            "automargin": true,
            "type": "pie"
           }
          ],
          "scatter": [
           {
            "fillpattern": {
             "fillmode": "overlay",
             "size": 10,
             "solidity": 0.2
            },
            "type": "scatter"
           }
          ],
          "scatter3d": [
           {
            "line": {
             "colorbar": {
              "outlinewidth": 0,
              "ticks": ""
             }
            },
            "marker": {
             "colorbar": {
              "outlinewidth": 0,
              "ticks": ""
             }
            },
            "type": "scatter3d"
           }
          ],
          "scattercarpet": [
           {
            "marker": {
             "colorbar": {
              "outlinewidth": 0,
              "ticks": ""
             }
            },
            "type": "scattercarpet"
           }
          ],
          "scattergeo": [
           {
            "marker": {
             "colorbar": {
              "outlinewidth": 0,
              "ticks": ""
             }
            },
            "type": "scattergeo"
           }
          ],
          "scattergl": [
           {
            "marker": {
             "colorbar": {
              "outlinewidth": 0,
              "ticks": ""
             }
            },
            "type": "scattergl"
           }
          ],
          "scattermapbox": [
           {
            "marker": {
             "colorbar": {
              "outlinewidth": 0,
              "ticks": ""
             }
            },
            "type": "scattermapbox"
           }
          ],
          "scatterpolar": [
           {
            "marker": {
             "colorbar": {
              "outlinewidth": 0,
              "ticks": ""
             }
            },
            "type": "scatterpolar"
           }
          ],
          "scatterpolargl": [
           {
            "marker": {
             "colorbar": {
              "outlinewidth": 0,
              "ticks": ""
             }
            },
            "type": "scatterpolargl"
           }
          ],
          "scatterternary": [
           {
            "marker": {
             "colorbar": {
              "outlinewidth": 0,
              "ticks": ""
             }
            },
            "type": "scatterternary"
           }
          ],
          "surface": [
           {
            "colorbar": {
             "outlinewidth": 0,
             "ticks": ""
            },
            "colorscale": [
             [
              0,
              "#0d0887"
             ],
             [
              0.1111111111111111,
              "#46039f"
             ],
             [
              0.2222222222222222,
              "#7201a8"
             ],
             [
              0.3333333333333333,
              "#9c179e"
             ],
             [
              0.4444444444444444,
              "#bd3786"
             ],
             [
              0.5555555555555556,
              "#d8576b"
             ],
             [
              0.6666666666666666,
              "#ed7953"
             ],
             [
              0.7777777777777778,
              "#fb9f3a"
             ],
             [
              0.8888888888888888,
              "#fdca26"
             ],
             [
              1,
              "#f0f921"
             ]
            ],
            "type": "surface"
           }
          ],
          "table": [
           {
            "cells": {
             "fill": {
              "color": "#EBF0F8"
             },
             "line": {
              "color": "white"
             }
            },
            "header": {
             "fill": {
              "color": "#C8D4E3"
             },
             "line": {
              "color": "white"
             }
            },
            "type": "table"
           }
          ]
         },
         "layout": {
          "annotationdefaults": {
           "arrowcolor": "#2a3f5f",
           "arrowhead": 0,
           "arrowwidth": 1
          },
          "autotypenumbers": "strict",
          "coloraxis": {
           "colorbar": {
            "outlinewidth": 0,
            "ticks": ""
           }
          },
          "colorscale": {
           "diverging": [
            [
             0,
             "#8e0152"
            ],
            [
             0.1,
             "#c51b7d"
            ],
            [
             0.2,
             "#de77ae"
            ],
            [
             0.3,
             "#f1b6da"
            ],
            [
             0.4,
             "#fde0ef"
            ],
            [
             0.5,
             "#f7f7f7"
            ],
            [
             0.6,
             "#e6f5d0"
            ],
            [
             0.7,
             "#b8e186"
            ],
            [
             0.8,
             "#7fbc41"
            ],
            [
             0.9,
             "#4d9221"
            ],
            [
             1,
             "#276419"
            ]
           ],
           "sequential": [
            [
             0,
             "#0d0887"
            ],
            [
             0.1111111111111111,
             "#46039f"
            ],
            [
             0.2222222222222222,
             "#7201a8"
            ],
            [
             0.3333333333333333,
             "#9c179e"
            ],
            [
             0.4444444444444444,
             "#bd3786"
            ],
            [
             0.5555555555555556,
             "#d8576b"
            ],
            [
             0.6666666666666666,
             "#ed7953"
            ],
            [
             0.7777777777777778,
             "#fb9f3a"
            ],
            [
             0.8888888888888888,
             "#fdca26"
            ],
            [
             1,
             "#f0f921"
            ]
           ],
           "sequentialminus": [
            [
             0,
             "#0d0887"
            ],
            [
             0.1111111111111111,
             "#46039f"
            ],
            [
             0.2222222222222222,
             "#7201a8"
            ],
            [
             0.3333333333333333,
             "#9c179e"
            ],
            [
             0.4444444444444444,
             "#bd3786"
            ],
            [
             0.5555555555555556,
             "#d8576b"
            ],
            [
             0.6666666666666666,
             "#ed7953"
            ],
            [
             0.7777777777777778,
             "#fb9f3a"
            ],
            [
             0.8888888888888888,
             "#fdca26"
            ],
            [
             1,
             "#f0f921"
            ]
           ]
          },
          "colorway": [
           "#636efa",
           "#EF553B",
           "#00cc96",
           "#ab63fa",
           "#FFA15A",
           "#19d3f3",
           "#FF6692",
           "#B6E880",
           "#FF97FF",
           "#FECB52"
          ],
          "font": {
           "color": "#2a3f5f"
          },
          "geo": {
           "bgcolor": "white",
           "lakecolor": "white",
           "landcolor": "#E5ECF6",
           "showlakes": true,
           "showland": true,
           "subunitcolor": "white"
          },
          "hoverlabel": {
           "align": "left"
          },
          "hovermode": "closest",
          "mapbox": {
           "style": "light"
          },
          "paper_bgcolor": "white",
          "plot_bgcolor": "#E5ECF6",
          "polar": {
           "angularaxis": {
            "gridcolor": "white",
            "linecolor": "white",
            "ticks": ""
           },
           "bgcolor": "#E5ECF6",
           "radialaxis": {
            "gridcolor": "white",
            "linecolor": "white",
            "ticks": ""
           }
          },
          "scene": {
           "xaxis": {
            "backgroundcolor": "#E5ECF6",
            "gridcolor": "white",
            "gridwidth": 2,
            "linecolor": "white",
            "showbackground": true,
            "ticks": "",
            "zerolinecolor": "white"
           },
           "yaxis": {
            "backgroundcolor": "#E5ECF6",
            "gridcolor": "white",
            "gridwidth": 2,
            "linecolor": "white",
            "showbackground": true,
            "ticks": "",
            "zerolinecolor": "white"
           },
           "zaxis": {
            "backgroundcolor": "#E5ECF6",
            "gridcolor": "white",
            "gridwidth": 2,
            "linecolor": "white",
            "showbackground": true,
            "ticks": "",
            "zerolinecolor": "white"
           }
          },
          "shapedefaults": {
           "line": {
            "color": "#2a3f5f"
           }
          },
          "ternary": {
           "aaxis": {
            "gridcolor": "white",
            "linecolor": "white",
            "ticks": ""
           },
           "baxis": {
            "gridcolor": "white",
            "linecolor": "white",
            "ticks": ""
           },
           "bgcolor": "#E5ECF6",
           "caxis": {
            "gridcolor": "white",
            "linecolor": "white",
            "ticks": ""
           }
          },
          "title": {
           "x": 0.05
          },
          "xaxis": {
           "automargin": true,
           "gridcolor": "white",
           "linecolor": "white",
           "ticks": "",
           "title": {
            "standoff": 15
           },
           "zerolinecolor": "white",
           "zerolinewidth": 2
          },
          "yaxis": {
           "automargin": true,
           "gridcolor": "white",
           "linecolor": "white",
           "ticks": "",
           "title": {
            "standoff": 15
           },
           "zerolinecolor": "white",
           "zerolinewidth": 2
          }
         }
        },
        "title": {
         "text": "Sentimental Value Over Time"
        },
        "xaxis": {
         "anchor": "y",
         "domain": [
          0,
          1
         ],
         "title": {
          "text": "Date"
         }
        },
        "yaxis": {
         "anchor": "x",
         "domain": [
          0,
          1
         ],
         "title": {
          "text": "Value"
         }
        }
       }
      }
     },
     "metadata": {},
     "output_type": "display_data"
    }
   ],
   "source": [
    "import plotly.express as px\n",
    "\n",
    "df = pol\n",
    "fig = px.bar(df, x='Date', y='Value', color=\"Sentiment\", title=\"Sentimental Value Over Time\")\n",
    "fig.show()"
   ]
  },
  {
   "cell_type": "code",
   "execution_count": 19,
   "metadata": {},
   "outputs": [
    {
     "data": {
      "text/plain": [
       "[<matplotlib.lines.Line2D at 0x18bd2ecec70>]"
      ]
     },
     "execution_count": 19,
     "metadata": {},
     "output_type": "execute_result"
    },
    {
     "data": {
      "image/png": "[encoded data removed]",
      "text/plain": [
       "<Figure size 1233x450 with 1 Axes>"
      ]
     },
     "metadata": {},
     "output_type": "display_data"
    }
   ],
   "source": [
    "# Plot the average sentiment over time\n",
    "\n",
    "plt.figure(figsize=(12.33,4.5))\n",
    "plt.title('Sentiment Average Over Time')\n",
    "plt.plot(polarity_avg.index, polarity_avg)"
   ]
  },
  {
   "cell_type": "code",
   "execution_count": 20,
   "metadata": {},
   "outputs": [
    {
     "data": {
      "text/html": [
       "<div>\n",
       "<style scoped>\n",
       "    .dataframe tbody tr th:only-of-type {\n",
       "        vertical-align: middle;\n",
       "    }\n",
       "\n",
       "    .dataframe tbody tr th {\n",
       "        vertical-align: top;\n",
       "    }\n",
       "\n",
       "    .dataframe thead th {\n",
       "        text-align: right;\n",
       "    }\n",
       "</style>\n",
       "<table border=\"1\" class=\"dataframe\">\n",
       "  <thead>\n",
       "    <tr style=\"text-align: right;\">\n",
       "      <th></th>\n",
       "      <th>Date</th>\n",
       "      <th>Sentiment</th>\n",
       "      <th>Value</th>\n",
       "    </tr>\n",
       "  </thead>\n",
       "  <tbody>\n",
       "    <tr>\n",
       "      <th>0</th>\n",
       "      <td>05/04/2022</td>\n",
       "      <td>Positive ++</td>\n",
       "      <td>5</td>\n",
       "    </tr>\n",
       "    <tr>\n",
       "      <th>1</th>\n",
       "      <td>06/04/2022</td>\n",
       "      <td>Positive ++</td>\n",
       "      <td>5</td>\n",
       "    </tr>\n",
       "    <tr>\n",
       "      <th>2</th>\n",
       "      <td>07/01/2021</td>\n",
       "      <td>Positive ++</td>\n",
       "      <td>3</td>\n",
       "    </tr>\n",
       "    <tr>\n",
       "      <th>3</th>\n",
       "      <td>07/04/2022</td>\n",
       "      <td>Positive ++</td>\n",
       "      <td>5</td>\n",
       "    </tr>\n",
       "    <tr>\n",
       "      <th>4</th>\n",
       "      <td>08/01/2021</td>\n",
       "      <td>Positive ++</td>\n",
       "      <td>5</td>\n",
       "    </tr>\n",
       "    <tr>\n",
       "      <th>5</th>\n",
       "      <td>09/01/2021</td>\n",
       "      <td>Positive ++</td>\n",
       "      <td>5</td>\n",
       "    </tr>\n",
       "    <tr>\n",
       "      <th>6</th>\n",
       "      <td>10/07/2022</td>\n",
       "      <td>Positive ++</td>\n",
       "      <td>5</td>\n",
       "    </tr>\n",
       "    <tr>\n",
       "      <th>7</th>\n",
       "      <td>10/10/2021</td>\n",
       "      <td>Positive ++</td>\n",
       "      <td>5</td>\n",
       "    </tr>\n",
       "    <tr>\n",
       "      <th>8</th>\n",
       "      <td>11/07/2022</td>\n",
       "      <td>Positive ++</td>\n",
       "      <td>5</td>\n",
       "    </tr>\n",
       "    <tr>\n",
       "      <th>9</th>\n",
       "      <td>11/10/2021</td>\n",
       "      <td>Positive ++</td>\n",
       "      <td>5</td>\n",
       "    </tr>\n",
       "    <tr>\n",
       "      <th>10</th>\n",
       "      <td>12/07/2022</td>\n",
       "      <td>Positive ++</td>\n",
       "      <td>5</td>\n",
       "    </tr>\n",
       "    <tr>\n",
       "      <th>11</th>\n",
       "      <td>12/10/2021</td>\n",
       "      <td>Positive ++</td>\n",
       "      <td>5</td>\n",
       "    </tr>\n",
       "    <tr>\n",
       "      <th>12</th>\n",
       "      <td>13/09/2022</td>\n",
       "      <td>Positive ++</td>\n",
       "      <td>3</td>\n",
       "    </tr>\n",
       "    <tr>\n",
       "      <th>13</th>\n",
       "      <td>14/04/2021</td>\n",
       "      <td>Positive ++</td>\n",
       "      <td>5</td>\n",
       "    </tr>\n",
       "    <tr>\n",
       "      <th>14</th>\n",
       "      <td>14/09/2022</td>\n",
       "      <td>Positive ++</td>\n",
       "      <td>5</td>\n",
       "    </tr>\n",
       "    <tr>\n",
       "      <th>15</th>\n",
       "      <td>15/04/2021</td>\n",
       "      <td>Positive ++</td>\n",
       "      <td>5</td>\n",
       "    </tr>\n",
       "    <tr>\n",
       "      <th>16</th>\n",
       "      <td>15/09/2022</td>\n",
       "      <td>Positive ++</td>\n",
       "      <td>5</td>\n",
       "    </tr>\n",
       "    <tr>\n",
       "      <th>17</th>\n",
       "      <td>16/04/2021</td>\n",
       "      <td>Positive ++</td>\n",
       "      <td>5</td>\n",
       "    </tr>\n",
       "    <tr>\n",
       "      <th>18</th>\n",
       "      <td>17/07/2021</td>\n",
       "      <td>Positive ++</td>\n",
       "      <td>5</td>\n",
       "    </tr>\n",
       "    <tr>\n",
       "      <th>19</th>\n",
       "      <td>17/12/2020</td>\n",
       "      <td>Positive ++</td>\n",
       "      <td>5</td>\n",
       "    </tr>\n",
       "    <tr>\n",
       "      <th>20</th>\n",
       "      <td>18/05/2021</td>\n",
       "      <td>Positive ++</td>\n",
       "      <td>5</td>\n",
       "    </tr>\n",
       "    <tr>\n",
       "      <th>21</th>\n",
       "      <td>18/07/2021</td>\n",
       "      <td>Positive ++</td>\n",
       "      <td>7</td>\n",
       "    </tr>\n",
       "    <tr>\n",
       "      <th>22</th>\n",
       "      <td>18/12/2020</td>\n",
       "      <td>Positive ++</td>\n",
       "      <td>5</td>\n",
       "    </tr>\n",
       "    <tr>\n",
       "      <th>23</th>\n",
       "      <td>19/05/2021</td>\n",
       "      <td>Positive ++</td>\n",
       "      <td>3</td>\n",
       "    </tr>\n",
       "    <tr>\n",
       "      <th>24</th>\n",
       "      <td>19/06/2022</td>\n",
       "      <td>Positive ++</td>\n",
       "      <td>5</td>\n",
       "    </tr>\n",
       "    <tr>\n",
       "      <th>25</th>\n",
       "      <td>19/07/2021</td>\n",
       "      <td>Positive ++</td>\n",
       "      <td>5</td>\n",
       "    </tr>\n",
       "    <tr>\n",
       "      <th>26</th>\n",
       "      <td>19/12/2020</td>\n",
       "      <td>Positive ++</td>\n",
       "      <td>5</td>\n",
       "    </tr>\n",
       "    <tr>\n",
       "      <th>27</th>\n",
       "      <td>20/01/2021</td>\n",
       "      <td>Positive ++</td>\n",
       "      <td>5</td>\n",
       "    </tr>\n",
       "    <tr>\n",
       "      <th>28</th>\n",
       "      <td>20/06/2022</td>\n",
       "      <td>Positive ++</td>\n",
       "      <td>5</td>\n",
       "    </tr>\n",
       "    <tr>\n",
       "      <th>29</th>\n",
       "      <td>21/01/2021</td>\n",
       "      <td>Positive ++</td>\n",
       "      <td>5</td>\n",
       "    </tr>\n",
       "    <tr>\n",
       "      <th>30</th>\n",
       "      <td>21/06/2022</td>\n",
       "      <td>Positive ++</td>\n",
       "      <td>5</td>\n",
       "    </tr>\n",
       "    <tr>\n",
       "      <th>31</th>\n",
       "      <td>22/01/2021</td>\n",
       "      <td>Positive ++</td>\n",
       "      <td>5</td>\n",
       "    </tr>\n",
       "    <tr>\n",
       "      <th>32</th>\n",
       "      <td>23/09/2021</td>\n",
       "      <td>Positive ++</td>\n",
       "      <td>5</td>\n",
       "    </tr>\n",
       "    <tr>\n",
       "      <th>33</th>\n",
       "      <td>24/01/2022</td>\n",
       "      <td>Positive ++</td>\n",
       "      <td>3</td>\n",
       "    </tr>\n",
       "    <tr>\n",
       "      <th>34</th>\n",
       "      <td>24/09/2021</td>\n",
       "      <td>Positive ++</td>\n",
       "      <td>5</td>\n",
       "    </tr>\n",
       "    <tr>\n",
       "      <th>35</th>\n",
       "      <td>25/01/2022</td>\n",
       "      <td>Positive ++</td>\n",
       "      <td>3</td>\n",
       "    </tr>\n",
       "    <tr>\n",
       "      <th>36</th>\n",
       "      <td>25/09/2021</td>\n",
       "      <td>Positive ++</td>\n",
       "      <td>7</td>\n",
       "    </tr>\n",
       "    <tr>\n",
       "      <th>37</th>\n",
       "      <td>26/01/2022</td>\n",
       "      <td>Positive ++</td>\n",
       "      <td>3</td>\n",
       "    </tr>\n",
       "  </tbody>\n",
       "</table>\n",
       "</div>"
      ],
      "text/plain": [
       "          Date    Sentiment  Value\n",
       "0   05/04/2022  Positive ++      5\n",
       "1   06/04/2022  Positive ++      5\n",
       "2   07/01/2021  Positive ++      3\n",
       "3   07/04/2022  Positive ++      5\n",
       "4   08/01/2021  Positive ++      5\n",
       "5   09/01/2021  Positive ++      5\n",
       "6   10/07/2022  Positive ++      5\n",
       "7   10/10/2021  Positive ++      5\n",
       "8   11/07/2022  Positive ++      5\n",
       "9   11/10/2021  Positive ++      5\n",
       "10  12/07/2022  Positive ++      5\n",
       "11  12/10/2021  Positive ++      5\n",
       "12  13/09/2022  Positive ++      3\n",
       "13  14/04/2021  Positive ++      5\n",
       "14  14/09/2022  Positive ++      5\n",
       "15  15/04/2021  Positive ++      5\n",
       "16  15/09/2022  Positive ++      5\n",
       "17  16/04/2021  Positive ++      5\n",
       "18  17/07/2021  Positive ++      5\n",
       "19  17/12/2020  Positive ++      5\n",
       "20  18/05/2021  Positive ++      5\n",
       "21  18/07/2021  Positive ++      7\n",
       "22  18/12/2020  Positive ++      5\n",
       "23  19/05/2021  Positive ++      3\n",
       "24  19/06/2022  Positive ++      5\n",
       "25  19/07/2021  Positive ++      5\n",
       "26  19/12/2020  Positive ++      5\n",
       "27  20/01/2021  Positive ++      5\n",
       "28  20/06/2022  Positive ++      5\n",
       "29  21/01/2021  Positive ++      5\n",
       "30  21/06/2022  Positive ++      5\n",
       "31  22/01/2021  Positive ++      5\n",
       "32  23/09/2021  Positive ++      5\n",
       "33  24/01/2022  Positive ++      3\n",
       "34  24/09/2021  Positive ++      5\n",
       "35  25/01/2022  Positive ++      3\n",
       "36  25/09/2021  Positive ++      7\n",
       "37  26/01/2022  Positive ++      3"
      ]
     },
     "execution_count": 20,
     "metadata": {},
     "output_type": "execute_result"
    }
   ],
   "source": [
    "pol"
   ]
  },
  {
   "cell_type": "markdown",
   "metadata": {},
   "source": [
    "# III. **SENTIMENTAL ANALYSIS 2**"
   ]
  },
  {
   "cell_type": "code",
   "execution_count": 22,
   "metadata": {},
   "outputs": [
    {
     "data": {
      "text/html": [
       "<div>\n",
       "<style scoped>\n",
       "    .dataframe tbody tr th:only-of-type {\n",
       "        vertical-align: middle;\n",
       "    }\n",
       "\n",
       "    .dataframe tbody tr th {\n",
       "        vertical-align: top;\n",
       "    }\n",
       "\n",
       "    .dataframe thead th {\n",
       "        text-align: right;\n",
       "    }\n",
       "</style>\n",
       "<table border=\"1\" class=\"dataframe\">\n",
       "  <thead>\n",
       "    <tr style=\"text-align: right;\">\n",
       "      <th></th>\n",
       "      <th>Datetime</th>\n",
       "      <th>Username</th>\n",
       "      <th>Clean</th>\n",
       "    </tr>\n",
       "  </thead>\n",
       "  <tbody>\n",
       "    <tr>\n",
       "      <th>0</th>\n",
       "      <td>2020-12-19 23:59:58+00:00</td>\n",
       "      <td>re_tweet</td>\n",
       "      <td>We’re gonna see 30k+ corn sound and some of yo...</td>\n",
       "    </tr>\n",
       "    <tr>\n",
       "      <th>1</th>\n",
       "      <td>2020-12-19 23:59:55+00:00</td>\n",
       "      <td>jpstunr</td>\n",
       "      <td>I found a Blue vault in Coin Hunt World   coin...</td>\n",
       "    </tr>\n",
       "    <tr>\n",
       "      <th>2</th>\n",
       "      <td>2020-12-19 23:59:44+00:00</td>\n",
       "      <td>cococryptotv</td>\n",
       "      <td>RyanSAdams Buy more Bitcoin</td>\n",
       "    </tr>\n",
       "    <tr>\n",
       "      <th>3</th>\n",
       "      <td>2020-12-19 23:59:33+00:00</td>\n",
       "      <td>Stock_Farms</td>\n",
       "      <td>pokerstarsgirl MinesMetals Thought So and you ...</td>\n",
       "    </tr>\n",
       "    <tr>\n",
       "      <th>4</th>\n",
       "      <td>2020-12-19 23:59:28+00:00</td>\n",
       "      <td>2Strawberries_</td>\n",
       "      <td>MFTUSDT MFTUSDT MFT USDT bitcoin trading crypt...</td>\n",
       "    </tr>\n",
       "  </tbody>\n",
       "</table>\n",
       "</div>"
      ],
      "text/plain": [
       "                    Datetime        Username  \\\n",
       "0  2020-12-19 23:59:58+00:00        re_tweet   \n",
       "1  2020-12-19 23:59:55+00:00         jpstunr   \n",
       "2  2020-12-19 23:59:44+00:00    cococryptotv   \n",
       "3  2020-12-19 23:59:33+00:00     Stock_Farms   \n",
       "4  2020-12-19 23:59:28+00:00  2Strawberries_   \n",
       "\n",
       "                                               Clean  \n",
       "0  We’re gonna see 30k+ corn sound and some of yo...  \n",
       "1  I found a Blue vault in Coin Hunt World   coin...  \n",
       "2                        RyanSAdams Buy more Bitcoin  \n",
       "3  pokerstarsgirl MinesMetals Thought So and you ...  \n",
       "4  MFTUSDT MFTUSDT MFT USDT bitcoin trading crypt...  "
      ]
     },
     "execution_count": 22,
     "metadata": {},
     "output_type": "execute_result"
    }
   ],
   "source": [
    "df_tweets=pd.read_csv(\"TKN_FINAL.csv\")\n",
    "df_gg = df_tweets.copy()\n",
    "\n",
    "df_gg = df_gg.drop('Id Tweet', axis=1)\n",
    "df_gg = df_gg.drop('Unnamed: 0', axis=1)\n",
    "df_gg = df_gg.drop('Text', axis=1)\n",
    "df_gg = df_gg.drop('Display Name', axis=1)\n",
    "df_gg = df_gg.drop('Like Count', axis=1)\n",
    "df_gg = df_gg.drop('Vérifié', axis=1)\n",
    "df_gg = df_gg.drop('Language', axis=1)\n",
    "df_gg = df_gg.drop('lemmatized_token', axis=1)\n",
    "df_gg = df_gg.drop('tokens', axis=1)\n",
    "df_gg = df_gg.drop('tokens_2_text', axis=1)\n",
    "df_gg = df_gg.drop('lemma', axis=1)\n",
    "\n",
    "df_gg.head(5)"
   ]
  },
  {
   "cell_type": "code",
   "execution_count": 24,
   "metadata": {},
   "outputs": [
    {
     "data": {
      "text/html": [
       "<div>\n",
       "<style scoped>\n",
       "    .dataframe tbody tr th:only-of-type {\n",
       "        vertical-align: middle;\n",
       "    }\n",
       "\n",
       "    .dataframe tbody tr th {\n",
       "        vertical-align: top;\n",
       "    }\n",
       "\n",
       "    .dataframe thead th {\n",
       "        text-align: right;\n",
       "    }\n",
       "</style>\n",
       "<table border=\"1\" class=\"dataframe\">\n",
       "  <thead>\n",
       "    <tr style=\"text-align: right;\">\n",
       "      <th></th>\n",
       "      <th>Date</th>\n",
       "      <th>Username</th>\n",
       "      <th>Clean</th>\n",
       "    </tr>\n",
       "  </thead>\n",
       "  <tbody>\n",
       "    <tr>\n",
       "      <th>0</th>\n",
       "      <td>19/12/2020</td>\n",
       "      <td>re_tweet</td>\n",
       "      <td>We’re gonna see 30k+ corn sound and some of yo...</td>\n",
       "    </tr>\n",
       "    <tr>\n",
       "      <th>1</th>\n",
       "      <td>19/12/2020</td>\n",
       "      <td>jpstunr</td>\n",
       "      <td>I found a Blue vault in Coin Hunt World   coin...</td>\n",
       "    </tr>\n",
       "    <tr>\n",
       "      <th>2</th>\n",
       "      <td>19/12/2020</td>\n",
       "      <td>cococryptotv</td>\n",
       "      <td>RyanSAdams Buy more Bitcoin</td>\n",
       "    </tr>\n",
       "    <tr>\n",
       "      <th>3</th>\n",
       "      <td>19/12/2020</td>\n",
       "      <td>Stock_Farms</td>\n",
       "      <td>pokerstarsgirl MinesMetals Thought So and you ...</td>\n",
       "    </tr>\n",
       "    <tr>\n",
       "      <th>4</th>\n",
       "      <td>19/12/2020</td>\n",
       "      <td>2Strawberries_</td>\n",
       "      <td>MFTUSDT MFTUSDT MFT USDT bitcoin trading crypt...</td>\n",
       "    </tr>\n",
       "    <tr>\n",
       "      <th>5</th>\n",
       "      <td>19/12/2020</td>\n",
       "      <td>hugocesar87</td>\n",
       "      <td>tyler why should I invest in bitcoin I still d...</td>\n",
       "    </tr>\n",
       "    <tr>\n",
       "      <th>6</th>\n",
       "      <td>19/12/2020</td>\n",
       "      <td>DeepBlueCrypto</td>\n",
       "      <td>zhusu Hey Su why’s China  and South Korea  sil...</td>\n",
       "    </tr>\n",
       "    <tr>\n",
       "      <th>7</th>\n",
       "      <td>19/12/2020</td>\n",
       "      <td>getmoni_io</td>\n",
       "      <td>The number of bitcoin millionaires increased b...</td>\n",
       "    </tr>\n",
       "    <tr>\n",
       "      <th>8</th>\n",
       "      <td>19/12/2020</td>\n",
       "      <td>StutubeTrading</td>\n",
       "      <td>I know my following is pretty small yet but wo...</td>\n",
       "    </tr>\n",
       "    <tr>\n",
       "      <th>9</th>\n",
       "      <td>19/12/2020</td>\n",
       "      <td>RobLicker</td>\n",
       "      <td>ToneVays have u checked out or covered fold_ap...</td>\n",
       "    </tr>\n",
       "  </tbody>\n",
       "</table>\n",
       "</div>"
      ],
      "text/plain": [
       "         Date        Username  \\\n",
       "0  19/12/2020        re_tweet   \n",
       "1  19/12/2020         jpstunr   \n",
       "2  19/12/2020    cococryptotv   \n",
       "3  19/12/2020     Stock_Farms   \n",
       "4  19/12/2020  2Strawberries_   \n",
       "5  19/12/2020     hugocesar87   \n",
       "6  19/12/2020  DeepBlueCrypto   \n",
       "7  19/12/2020      getmoni_io   \n",
       "8  19/12/2020  StutubeTrading   \n",
       "9  19/12/2020       RobLicker   \n",
       "\n",
       "                                               Clean  \n",
       "0  We’re gonna see 30k+ corn sound and some of yo...  \n",
       "1  I found a Blue vault in Coin Hunt World   coin...  \n",
       "2                        RyanSAdams Buy more Bitcoin  \n",
       "3  pokerstarsgirl MinesMetals Thought So and you ...  \n",
       "4  MFTUSDT MFTUSDT MFT USDT bitcoin trading crypt...  \n",
       "5  tyler why should I invest in bitcoin I still d...  \n",
       "6  zhusu Hey Su why’s China  and South Korea  sil...  \n",
       "7  The number of bitcoin millionaires increased b...  \n",
       "8  I know my following is pretty small yet but wo...  \n",
       "9  ToneVays have u checked out or covered fold_ap...  "
      ]
     },
     "execution_count": 24,
     "metadata": {},
     "output_type": "execute_result"
    }
   ],
   "source": [
    "df_gg.rename(columns = {'Datetime':'Date'}, inplace = True)\n",
    "df_gg['Date'] = pd.to_datetime(df_gg['Date'])\n",
    "df_gg['Date'] = df_gg['Date'].dt.strftime('%d/%m/%Y')\n",
    "\n",
    "df_gg.head(10)"
   ]
  },
  {
   "cell_type": "code",
   "execution_count": 25,
   "metadata": {},
   "outputs": [
    {
     "ename": "TypeError",
     "evalue": "Invalid argument, not a string or column: 0         We’re gonna see 30k+ corn sound and some of yo...\n1         I found a Blue vault in Coin Hunt World   coin...\n2                               RyanSAdams Buy more Bitcoin\n3         pokerstarsgirl MinesMetals Thought So and you ...\n4         MFTUSDT MFTUSDT MFT USDT bitcoin trading crypt...\n                                ...                        \n851893                              Opt out \\nBuy bitcoin  \n851894    Financial giant State Street has revealed that...\n851895    Bitcoin 3Day RSI has broken out of the 20 mont...\n851896                     Bitcoin\\n\\nBig volume drop off. \n851897    Will you be able to handle these NFTS...Lets s...\nName: Clean, Length: 851898, dtype: object of type <class 'pandas.core.series.Series'>. For column literals, use 'lit', 'array', 'struct' or 'create_map' function.",
     "output_type": "error",
     "traceback": [
      "\u001b[1;31m---------------------------------------------------------------------------\u001b[0m",
      "\u001b[1;31mTypeError\u001b[0m                                 Traceback (most recent call last)",
      "Cell \u001b[1;32mIn [25], line 11\u001b[0m\n\u001b[0;32m      7\u001b[0m func_udf2 \u001b[38;5;241m=\u001b[39m udf(senti_score_udf, ArrayType(FloatType()))\n\u001b[0;32m      9\u001b[0m df_gd \u001b[38;5;241m=\u001b[39m df_gg\u001b[38;5;241m.\u001b[39mcopy()\n\u001b[1;32m---> 11\u001b[0m df_gd \u001b[38;5;241m=\u001b[39m DataFrame\u001b[38;5;241m.\u001b[39mjoin(func_udf2(df_gd[\u001b[38;5;124m'\u001b[39m\u001b[38;5;124mClean\u001b[39m\u001b[38;5;124m'\u001b[39m]), on\u001b[38;5;241m=\u001b[39m\u001b[38;5;28;01mNone\u001b[39;00m, how\u001b[38;5;241m=\u001b[39m\u001b[38;5;124m'\u001b[39m\u001b[38;5;124mleft\u001b[39m\u001b[38;5;124m'\u001b[39m, lsuffix\u001b[38;5;241m=\u001b[39m\u001b[38;5;124m'\u001b[39m\u001b[38;5;124m'\u001b[39m, rsuffix\u001b[38;5;241m=\u001b[39m\u001b[38;5;124m'\u001b[39m\u001b[38;5;124m'\u001b[39m, sort\u001b[38;5;241m=\u001b[39m\u001b[38;5;28;01mFalse\u001b[39;00m)\n\u001b[0;32m     14\u001b[0m df_gd[\u001b[38;5;124m'\u001b[39m\u001b[38;5;124mp_comp\u001b[39m\u001b[38;5;124m'\u001b[39m] \u001b[38;5;241m=\u001b[39m df_gd[\u001b[38;5;124m'\u001b[39m\u001b[38;5;124mp_comp\u001b[39m\u001b[38;5;124m'\u001b[39m]\u001b[38;5;241m.\u001b[39mapply(\u001b[38;5;28;01mlambda\u001b[39;00m c: \u001b[38;5;124m'\u001b[39m\u001b[38;5;124mpos\u001b[39m\u001b[38;5;124m'\u001b[39m \u001b[38;5;28;01mif\u001b[39;00m c \u001b[38;5;241m>\u001b[39m\u001b[38;5;241m=\u001b[39m\u001b[38;5;241m0\u001b[39m \u001b[38;5;28;01melse\u001b[39;00m \u001b[38;5;124m'\u001b[39m\u001b[38;5;124mneg\u001b[39m\u001b[38;5;124m'\u001b[39m)\n\u001b[0;32m     16\u001b[0m df_gd\u001b[38;5;241m.\u001b[39mshow(\u001b[38;5;241m10\u001b[39m)\n",
      "File \u001b[1;32mc:\\Users\\PEGON\\Desktop\\textmining\\venv\\lib\\site-packages\\pyspark\\sql\\udf.py:276\u001b[0m, in \u001b[0;36mUserDefinedFunction._wrapped.<locals>.wrapper\u001b[1;34m(*args)\u001b[0m\n\u001b[0;32m    274\u001b[0m \u001b[39m@functools\u001b[39m\u001b[39m.\u001b[39mwraps(\u001b[39mself\u001b[39m\u001b[39m.\u001b[39mfunc, assigned\u001b[39m=\u001b[39massignments)\n\u001b[0;32m    275\u001b[0m \u001b[39mdef\u001b[39;00m \u001b[39mwrapper\u001b[39m(\u001b[39m*\u001b[39margs: \u001b[39m\"\u001b[39m\u001b[39mColumnOrName\u001b[39m\u001b[39m\"\u001b[39m) \u001b[39m-\u001b[39m\u001b[39m>\u001b[39m Column:\n\u001b[1;32m--> 276\u001b[0m     \u001b[39mreturn\u001b[39;00m \u001b[39mself\u001b[39;49m(\u001b[39m*\u001b[39;49margs)\n",
      "File \u001b[1;32mc:\\Users\\PEGON\\Desktop\\textmining\\venv\\lib\\site-packages\\pyspark\\sql\\udf.py:251\u001b[0m, in \u001b[0;36mUserDefinedFunction.__call__\u001b[1;34m(self, *cols)\u001b[0m\n\u001b[0;32m    248\u001b[0m \u001b[39melse\u001b[39;00m:\n\u001b[0;32m    249\u001b[0m     judf \u001b[39m=\u001b[39m \u001b[39mself\u001b[39m\u001b[39m.\u001b[39m_judf\n\u001b[1;32m--> 251\u001b[0m jPythonUDF \u001b[39m=\u001b[39m judf\u001b[39m.\u001b[39mapply(_to_seq(sc, cols, _to_java_column))\n\u001b[0;32m    252\u001b[0m \u001b[39mif\u001b[39;00m profiler \u001b[39mis\u001b[39;00m \u001b[39mnot\u001b[39;00m \u001b[39mNone\u001b[39;00m:\n\u001b[0;32m    253\u001b[0m     \u001b[39mid\u001b[39m \u001b[39m=\u001b[39m jPythonUDF\u001b[39m.\u001b[39mexpr()\u001b[39m.\u001b[39mresultId()\u001b[39m.\u001b[39mid()\n",
      "File \u001b[1;32mc:\\Users\\PEGON\\Desktop\\textmining\\venv\\lib\\site-packages\\pyspark\\sql\\column.py:86\u001b[0m, in \u001b[0;36m_to_seq\u001b[1;34m(sc, cols, converter)\u001b[0m\n\u001b[0;32m     79\u001b[0m \u001b[39m\"\"\"\u001b[39;00m\n\u001b[0;32m     80\u001b[0m \u001b[39mConvert a list of Column (or names) into a JVM Seq of Column.\u001b[39;00m\n\u001b[0;32m     81\u001b[0m \n\u001b[0;32m     82\u001b[0m \u001b[39mAn optional `converter` could be used to convert items in `cols`\u001b[39;00m\n\u001b[0;32m     83\u001b[0m \u001b[39minto JVM Column objects.\u001b[39;00m\n\u001b[0;32m     84\u001b[0m \u001b[39m\"\"\"\u001b[39;00m\n\u001b[0;32m     85\u001b[0m \u001b[39mif\u001b[39;00m converter:\n\u001b[1;32m---> 86\u001b[0m     cols \u001b[39m=\u001b[39m [converter(c) \u001b[39mfor\u001b[39;00m c \u001b[39min\u001b[39;00m cols]\n\u001b[0;32m     87\u001b[0m \u001b[39massert\u001b[39;00m sc\u001b[39m.\u001b[39m_jvm \u001b[39mis\u001b[39;00m \u001b[39mnot\u001b[39;00m \u001b[39mNone\u001b[39;00m\n\u001b[0;32m     88\u001b[0m \u001b[39mreturn\u001b[39;00m sc\u001b[39m.\u001b[39m_jvm\u001b[39m.\u001b[39mPythonUtils\u001b[39m.\u001b[39mtoSeq(cols)\n",
      "File \u001b[1;32mc:\\Users\\PEGON\\Desktop\\textmining\\venv\\lib\\site-packages\\pyspark\\sql\\column.py:86\u001b[0m, in \u001b[0;36m<listcomp>\u001b[1;34m(.0)\u001b[0m\n\u001b[0;32m     79\u001b[0m \u001b[39m\"\"\"\u001b[39;00m\n\u001b[0;32m     80\u001b[0m \u001b[39mConvert a list of Column (or names) into a JVM Seq of Column.\u001b[39;00m\n\u001b[0;32m     81\u001b[0m \n\u001b[0;32m     82\u001b[0m \u001b[39mAn optional `converter` could be used to convert items in `cols`\u001b[39;00m\n\u001b[0;32m     83\u001b[0m \u001b[39minto JVM Column objects.\u001b[39;00m\n\u001b[0;32m     84\u001b[0m \u001b[39m\"\"\"\u001b[39;00m\n\u001b[0;32m     85\u001b[0m \u001b[39mif\u001b[39;00m converter:\n\u001b[1;32m---> 86\u001b[0m     cols \u001b[39m=\u001b[39m [converter(c) \u001b[39mfor\u001b[39;00m c \u001b[39min\u001b[39;00m cols]\n\u001b[0;32m     87\u001b[0m \u001b[39massert\u001b[39;00m sc\u001b[39m.\u001b[39m_jvm \u001b[39mis\u001b[39;00m \u001b[39mnot\u001b[39;00m \u001b[39mNone\u001b[39;00m\n\u001b[0;32m     88\u001b[0m \u001b[39mreturn\u001b[39;00m sc\u001b[39m.\u001b[39m_jvm\u001b[39m.\u001b[39mPythonUtils\u001b[39m.\u001b[39mtoSeq(cols)\n",
      "File \u001b[1;32mc:\\Users\\PEGON\\Desktop\\textmining\\venv\\lib\\site-packages\\pyspark\\sql\\column.py:65\u001b[0m, in \u001b[0;36m_to_java_column\u001b[1;34m(col)\u001b[0m\n\u001b[0;32m     63\u001b[0m     jcol \u001b[39m=\u001b[39m _create_column_from_name(col)\n\u001b[0;32m     64\u001b[0m \u001b[39melse\u001b[39;00m:\n\u001b[1;32m---> 65\u001b[0m     \u001b[39mraise\u001b[39;00m \u001b[39mTypeError\u001b[39;00m(\n\u001b[0;32m     66\u001b[0m         \u001b[39m\"\u001b[39m\u001b[39mInvalid argument, not a string or column: \u001b[39m\u001b[39m\"\u001b[39m\n\u001b[0;32m     67\u001b[0m         \u001b[39m\"\u001b[39m\u001b[39m{0}\u001b[39;00m\u001b[39m of type \u001b[39m\u001b[39m{1}\u001b[39;00m\u001b[39m. \u001b[39m\u001b[39m\"\u001b[39m\n\u001b[0;32m     68\u001b[0m         \u001b[39m\"\u001b[39m\u001b[39mFor column literals, use \u001b[39m\u001b[39m'\u001b[39m\u001b[39mlit\u001b[39m\u001b[39m'\u001b[39m\u001b[39m, \u001b[39m\u001b[39m'\u001b[39m\u001b[39marray\u001b[39m\u001b[39m'\u001b[39m\u001b[39m, \u001b[39m\u001b[39m'\u001b[39m\u001b[39mstruct\u001b[39m\u001b[39m'\u001b[39m\u001b[39m or \u001b[39m\u001b[39m'\u001b[39m\u001b[39mcreate_map\u001b[39m\u001b[39m'\u001b[39m\u001b[39m \u001b[39m\u001b[39m\"\u001b[39m\n\u001b[0;32m     69\u001b[0m         \u001b[39m\"\u001b[39m\u001b[39mfunction.\u001b[39m\u001b[39m\"\u001b[39m\u001b[39m.\u001b[39mformat(col, \u001b[39mtype\u001b[39m(col))\n\u001b[0;32m     70\u001b[0m     )\n\u001b[0;32m     71\u001b[0m \u001b[39mreturn\u001b[39;00m jcol\n",
      "\u001b[1;31mTypeError\u001b[0m: Invalid argument, not a string or column: 0         We’re gonna see 30k+ corn sound and some of yo...\n1         I found a Blue vault in Coin Hunt World   coin...\n2                               RyanSAdams Buy more Bitcoin\n3         pokerstarsgirl MinesMetals Thought So and you ...\n4         MFTUSDT MFTUSDT MFT USDT bitcoin trading crypt...\n                                ...                        \n851893                              Opt out \\nBuy bitcoin  \n851894    Financial giant State Street has revealed that...\n851895    Bitcoin 3Day RSI has broken out of the 20 mont...\n851896                     Bitcoin\\n\\nBig volume drop off. \n851897    Will you be able to handle these NFTS...Lets s...\nName: Clean, Length: 851898, dtype: object of type <class 'pandas.core.series.Series'>. For column literals, use 'lit', 'array', 'struct' or 'create_map' function."
     ]
    }
   ],
   "source": [
    "from vaderSentiment.vaderSentiment import SentimentIntensityAnalyzer\n",
    "analyser = SentimentIntensityAnalyzer()\n",
    "\n",
    "def senti_score_udf(sentence):\n",
    "    snt = analyser.polarity_scores(sentence)\n",
    "    return ([snt['neg'], snt['neu'], snt['pos'], snt['compound']])\n",
    "func_udf2 = udf(senti_score_udf, ArrayType(FloatType()))\n",
    "\n",
    "df_gd = df_gg.copy()\n",
    "\n",
    "df_gd = df_gd.withColumn('p_neg', func_udf2(df_gd['Clean'])[0])\n",
    "df_gd = df_gd.withColumn('p_neu', func_udf2(df_gd['Clean'])[1])\n",
    "df_gd = df_gd.withColumn('p_pos', func_udf2(df_gd['Clean'])[2])\n",
    "df_gd = df_gd.withColumn('p_comp', func_udf2(df_gd['Clean'])[3])\n",
    "\n",
    "df_gd['p_comp'] = df_gd['p_comp'].apply(lambda c: 'pos' if c >=0 else 'neg')\n",
    "\n",
    "df_gd.show(10)"
   ]
  },
  {
   "cell_type": "code",
   "execution_count": 31,
   "metadata": {},
   "outputs": [],
   "source": [
    "def vadar_sentiment(text):\n",
    "    \"\"\" Calculate and return the nltk vadar (lexicon method) sentiment \"\"\"\n",
    "    return analyser.polarity_scores(text)['compound']\n",
    "\n",
    "# create new column for vadar compound sentiment score\n",
    "df_gd['vadar compound'] = df_gd['Clean'].apply(vadar_sentiment)\n",
    "\n",
    "def categorise_sentiment(sentiment, neg_threshold=-0.05, pos_threshold=0.05):\n",
    "    \"\"\" categorise the sentiment value as positive (1), negative (-1) \n",
    "        or neutral (0) based on given thresholds \"\"\"\n",
    "    if sentiment < neg_threshold:\n",
    "        label = 'Negative'\n",
    "    elif sentiment > pos_threshold:\n",
    "        label = 'Positive'\n",
    "    else:\n",
    "        label = 'Neutral'\n",
    "    return label\n",
    "\n",
    "# new col with vadar sentiment label based on vadar compound score\n",
    "df_gd['vadar sentiment'] = df_gd['vadar compound'].apply(categorise_sentiment)"
   ]
  },
  {
   "cell_type": "code",
   "execution_count": 32,
   "metadata": {},
   "outputs": [
    {
     "data": {
      "text/html": [
       "<div>\n",
       "<style scoped>\n",
       "    .dataframe tbody tr th:only-of-type {\n",
       "        vertical-align: middle;\n",
       "    }\n",
       "\n",
       "    .dataframe tbody tr th {\n",
       "        vertical-align: top;\n",
       "    }\n",
       "\n",
       "    .dataframe thead th {\n",
       "        text-align: right;\n",
       "    }\n",
       "</style>\n",
       "<table border=\"1\" class=\"dataframe\">\n",
       "  <thead>\n",
       "    <tr style=\"text-align: right;\">\n",
       "      <th></th>\n",
       "      <th>Date</th>\n",
       "      <th>Username</th>\n",
       "      <th>Clean</th>\n",
       "      <th>vadar compound</th>\n",
       "      <th>vadar sentiment</th>\n",
       "    </tr>\n",
       "  </thead>\n",
       "  <tbody>\n",
       "    <tr>\n",
       "      <th>0</th>\n",
       "      <td>19/12/2020</td>\n",
       "      <td>re_tweet</td>\n",
       "      <td>We’re gonna see 30k+ corn sound and some of yo...</td>\n",
       "      <td>-0.8555</td>\n",
       "      <td>Negative</td>\n",
       "    </tr>\n",
       "    <tr>\n",
       "      <th>1</th>\n",
       "      <td>19/12/2020</td>\n",
       "      <td>jpstunr</td>\n",
       "      <td>I found a Blue vault in Coin Hunt World   coin...</td>\n",
       "      <td>0.0000</td>\n",
       "      <td>Neutral</td>\n",
       "    </tr>\n",
       "    <tr>\n",
       "      <th>2</th>\n",
       "      <td>19/12/2020</td>\n",
       "      <td>cococryptotv</td>\n",
       "      <td>RyanSAdams Buy more Bitcoin</td>\n",
       "      <td>0.0000</td>\n",
       "      <td>Neutral</td>\n",
       "    </tr>\n",
       "    <tr>\n",
       "      <th>3</th>\n",
       "      <td>19/12/2020</td>\n",
       "      <td>Stock_Farms</td>\n",
       "      <td>pokerstarsgirl MinesMetals Thought So and you ...</td>\n",
       "      <td>0.4019</td>\n",
       "      <td>Positive</td>\n",
       "    </tr>\n",
       "    <tr>\n",
       "      <th>4</th>\n",
       "      <td>19/12/2020</td>\n",
       "      <td>2Strawberries_</td>\n",
       "      <td>MFTUSDT MFTUSDT MFT USDT bitcoin trading crypt...</td>\n",
       "      <td>0.2732</td>\n",
       "      <td>Positive</td>\n",
       "    </tr>\n",
       "  </tbody>\n",
       "</table>\n",
       "</div>"
      ],
      "text/plain": [
       "         Date        Username  \\\n",
       "0  19/12/2020        re_tweet   \n",
       "1  19/12/2020         jpstunr   \n",
       "2  19/12/2020    cococryptotv   \n",
       "3  19/12/2020     Stock_Farms   \n",
       "4  19/12/2020  2Strawberries_   \n",
       "\n",
       "                                               Clean  vadar compound  \\\n",
       "0  We’re gonna see 30k+ corn sound and some of yo...         -0.8555   \n",
       "1  I found a Blue vault in Coin Hunt World   coin...          0.0000   \n",
       "2                        RyanSAdams Buy more Bitcoin          0.0000   \n",
       "3  pokerstarsgirl MinesMetals Thought So and you ...          0.4019   \n",
       "4  MFTUSDT MFTUSDT MFT USDT bitcoin trading crypt...          0.2732   \n",
       "\n",
       "  vadar sentiment  \n",
       "0        Negative  \n",
       "1         Neutral  \n",
       "2         Neutral  \n",
       "3        Positive  \n",
       "4        Positive  "
      ]
     },
     "execution_count": 32,
     "metadata": {},
     "output_type": "execute_result"
    }
   ],
   "source": [
    "df_gd.head(5)"
   ]
  },
  {
   "cell_type": "code",
   "execution_count": 37,
   "metadata": {},
   "outputs": [
    {
     "data": {
      "image/png": "[encoded data removed]",
      "text/plain": [
       "<Figure size 800x800 with 1 Axes>"
      ]
     },
     "metadata": {},
     "output_type": "display_data"
    }
   ],
   "source": [
    "# new col with vadar sentiment label based on vadar compound score\n",
    "df_gd['vadar sentiment'] = df_gd['vadar compound'].apply(categorise_sentiment)\n",
    "\n",
    "# plot distribution of article sentiments for each newspaper\n",
    "plt.figure(figsize=(8,8))\n",
    "sns.countplot(x='Date', data=df_gd, hue='vadar sentiment')\n",
    "plt.title('VADAR Sentiment Analysis', weight='bold')\n",
    "plt.ylabel('Number of Tweets', fontsize=10, weight='bold')\n",
    "plt.xlabel('VADAR Sentiment', fontsize=10, weight='bold')\n",
    "plt.legend(bbox_to_anchor=(1.02, 1.0), loc=2, borderaxespad=0.0)\n",
    "plt.show()"
   ]
  }
 ],
 "metadata": {
  "kernelspec": {
   "display_name": "Python 3.9.8 ('venv': venv)",
   "language": "python",
   "name": "python3"
  },
  "language_info": {
   "codemirror_mode": {
    "name": "ipython",
    "version": 3
   },
   "file_extension": ".py",
   "mimetype": "text/x-python",
   "name": "python",
   "nbconvert_exporter": "python",
   "pygments_lexer": "ipython3",
   "version": "3.9.8"
  },
  "orig_nbformat": 4,
  "vscode": {
   "interpreter": {
    "hash": "bd7c695c01dbc44b121a167a9c21482d80fdd073dce5520e33fdd0ba9a9fc744"
   }
  }
 },
 "nbformat": 4,
 "nbformat_minor": 2
}
